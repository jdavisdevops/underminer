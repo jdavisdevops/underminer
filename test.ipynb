{
 "cells": [
  {
   "cell_type": "code",
   "execution_count": null,
   "metadata": {},
   "outputs": [],
   "source": [
    "from datetime import datetime, timedelta\n",
    "import pandas as pd\n",
    "from pandas.plotting import register_matplotlib_converters\n",
    "register_matplotlib_converters()\n",
    "%matplotlib inline\n",
    "%config IPCompleter.greedy = True\n",
    "%config InlineBackend.figure_format = 'retina'\n",
    "import numpy as np\n",
    "import matplotlib.pyplot as plt\n",
    "from pathlib import Path\n",
    "import seaborn as sns\n",
    "import xgboost as xgb\n",
    "\n",
    "sns.set(\n",
    "    font=\"Franklin Gothic Book\",\n",
    "    rc={\n",
    "        \"axes.axisbelow\": False,\n",
    "        \"axes.edgecolor\": \"lightgrey\",\n",
    "        \"axes.facecolor\": \"None\",\n",
    "        \"axes.grid\": False,\n",
    "        \"axes.labelcolor\": \"dimgrey\",\n",
    "        \"axes.spines.right\": False,\n",
    "        \"axes.spines.top\": False,\n",
    "        \"figure.facecolor\": \"white\",\n",
    "        \"lines.solid_capstyle\": \"round\",\n",
    "        \"patch.edgecolor\": \"w\",\n",
    "        \"patch.force_edgecolor\": True,\n",
    "        \"text.color\": \"dimgrey\",\n",
    "        \"xtick.bottom\": False,\n",
    "        \"xtick.color\": \"dimgrey\",\n",
    "        \"xtick.direction\": \"out\",\n",
    "        \"xtick.top\": False,\n",
    "        \"ytick.color\": \"dimgrey\",\n",
    "        \"ytick.direction\": \"out\",\n",
    "        \"ytick.left\": False,\n",
    "        \"ytick.right\": False,\n",
    "    },\n",
    ")\n",
    "\n",
    "sns.set_context(\n",
    "    \"notebook\", rc={\"font.size\": 16, \"axes.titlesize\": 20, \"axes.labelsize\": 18}\n",
    ")\n",
    "import requests\n",
    "from creds import api_key\n",
    "\n",
    "import tensorflow as tf\n",
    "import tensorflow_probability as tfp\n",
    "from pandasgui import show\n",
    "\n",
    "tf.distribute.OneDeviceStrategy(device=\"/gpu:0\")"
   ]
  },
  {
   "cell_type": "code",
   "execution_count": null,
   "metadata": {},
   "outputs": [],
   "source": [
    "def compile_lc_data(num_days=180, read_csv=False, write_csv=False, coins=\"ETH\"):\n",
    "    file = Path.cwd() / \"lunar_histdata.csv\"\n",
    "    if read_csv is True:\n",
    "        df = pd.read_csv(file, index_col=0)\n",
    "        return df\n",
    "    intervals = [\"1d\", \"1w\", \"1m\", \"3m\", \"6m\", \"1y\", \"2y\"]\n",
    "    finish = datetime.now()\n",
    "    start = finish - timedelta(days=num_days)\n",
    "    delta = timedelta(hours=720)\n",
    "    df = pd.DataFrame()\n",
    "    while finish > start:\n",
    "        payload = {\n",
    "            \"key\": api_key,\n",
    "            \"symbol\": coins,\n",
    "            \"change\": intervals,\n",
    "            \"data_points\": \"720\",\n",
    "            \"start\": datetime.timestamp(start),\n",
    "        }\n",
    "\n",
    "        r = requests.get(\"https://api.lunarcrush.com/v2?data=assets\", params=payload)\n",
    "\n",
    "        data = pd.DataFrame.from_dict(r.json()[\"data\"][0])\n",
    "        ts = data.timeSeries.to_dict()\n",
    "        new = pd.DataFrame.from_dict(ts, orient=\"index\")\n",
    "        new.pop(\"asset_id\")\n",
    "        new.pop(\"search_average\")\n",
    "        new[\"time\"] = pd.to_datetime(new[\"time\"], unit=\"s\")\n",
    "        new.set_index(\"time\", inplace=True)\n",
    "        new.sort_index(ascending=True, inplace=True)\n",
    "        new[\"month\"] = [new.index[i].month for i in range(len(new))]\n",
    "        new[\"day\"] = [new.index[i].day for i in range(len(new))]\n",
    "        new[\"hour\"] = [new.index[i].hour for i in range(len(new))]\n",
    "        new.fillna(new.mean(), inplace=True)\n",
    "\n",
    "        df = df.append(new, ignore_index=False, verify_integrity=True)\n",
    "        start = start + delta\n",
    "\n",
    "    if write_csv is True:\n",
    "        df.to_csv(file)\n",
    "\n",
    "    return df\n",
    "\n",
    "\n",
    "df = compile_lc_data(read_csv=True)\n",
    "print(\"NaN Check \")\n",
    "print(df.isna().sum().sum())\n",
    "print(df.index.max())\n",
    "print(df.index.min())\n",
    "print(len(df))\n",
    "df.tail()\n"
   ]
  },
  {
   "cell_type": "code",
   "execution_count": null,
   "metadata": {},
   "outputs": [],
   "source": [
    "train_ds = df.sample(frac=0.8, random_state=0)\n",
    "test_ds = df.drop(train_ds.index)\n",
    "\n",
    "train_features = train_ds.copy()\n",
    "test_features = test_ds.copy()\n",
    "\n",
    "train_label = train_features.pop(\"close\")\n",
    "test_label = test_features.pop(\"close\")\n",
    "\n",
    "\n",
    "normalizer = tf.keras.layers.Normalization(axis=-1)\n",
    "normalizer.adapt(np.array(train_features).astype(\"float32\"))\n",
    "\n",
    "linear_model = tf.keras.models.Sequential([normalizer, tf.keras.layers.Dense(1)])\n",
    "optimizer = tf.keras.optimizers.Adam()\n",
    "\n",
    "linear_model.compile(optimizer=optimizer, loss=\"mse\")\n"
   ]
  },
  {
   "cell_type": "code",
   "execution_count": null,
   "metadata": {},
   "outputs": [],
   "source": [
    "linear_model.layers[1].kernel"
   ]
  },
  {
   "cell_type": "code",
   "execution_count": null,
   "metadata": {},
   "outputs": [],
   "source": [
    "%%time\n",
    "early_stopping = tf.keras.callbacks.EarlyStopping(\n",
    "        monitor=\"val_loss\", patience=4, mode=\"min\"\n",
    "    )\n",
    "history = linear_model.fit(\n",
    "    train_features,\n",
    "    train_label,\n",
    "    epochs=2000,\n",
    "    validation_split=.2,\n",
    "    callbacks=[early_stopping],\n",
    "    \n",
    ")"
   ]
  },
  {
   "cell_type": "code",
   "execution_count": null,
   "metadata": {},
   "outputs": [],
   "source": [
    "hist = pd.DataFrame(history.history)\n",
    "hist[\"epoch\"] = history.epoch\n",
    "hist.tail()\n"
   ]
  },
  {
   "cell_type": "code",
   "execution_count": null,
   "metadata": {},
   "outputs": [],
   "source": [
    "test_results = {}\n",
    "\n",
    "test_results[\"linear_baseline\"] = linear_model.evaluate(\n",
    "    test_features, test_label, verbose=0\n",
    ")\n"
   ]
  },
  {
   "cell_type": "code",
   "execution_count": null,
   "metadata": {},
   "outputs": [],
   "source": [
    "def build_and_compile_model(norm):\n",
    "    model = tf.keras.models.Sequential(\n",
    "        [\n",
    "            norm,\n",
    "            tf.keras.layers.Dense(64, activation=\"relu\"),\n",
    "            tf.keras.layers.Dense(64, activation=\"relu\"),\n",
    "            tf.keras.layers.Dense(1),\n",
    "        ]\n",
    "    )\n",
    "    model.compile(\n",
    "        loss=\"mse\", optimizer=\"adam\", metrics=[tf.metrics.MeanAbsoluteError()]\n",
    "    )\n",
    "    return model\n"
   ]
  },
  {
   "cell_type": "code",
   "execution_count": null,
   "metadata": {},
   "outputs": [],
   "source": [
    "dnn_model = build_and_compile_model(normalizer)\n",
    "\n",
    "dnn_model.summary()"
   ]
  },
  {
   "cell_type": "code",
   "execution_count": null,
   "metadata": {},
   "outputs": [],
   "source": [
    "%%time\n",
    "history = dnn_model.fit(\n",
    "    train_features,\n",
    "    train_label,\n",
    "    validation_split=0.2,\n",
    "    epochs=2000, callbacks=[early_stopping])"
   ]
  },
  {
   "cell_type": "code",
   "execution_count": null,
   "metadata": {},
   "outputs": [],
   "source": [
    "hist = pd.DataFrame(history.history)\n",
    "hist[\"epoch\"] = history.epoch\n",
    "hist.plot(x=\"epoch\", y=\"loss\")\n"
   ]
  },
  {
   "cell_type": "code",
   "execution_count": null,
   "metadata": {},
   "outputs": [],
   "source": [
    "test_results[\"Simple DNN\"] = dnn_model.evaluate(test_features, test_label)\n",
    "\n",
    "print(test_results)\n"
   ]
  },
  {
   "cell_type": "code",
   "execution_count": null,
   "metadata": {},
   "outputs": [],
   "source": [
    "test_predictions = {}\n",
    "test_predictions[\"dnn_model\"] = dnn_model.predict(test_features).flatten()\n"
   ]
  },
  {
   "cell_type": "code",
   "execution_count": null,
   "metadata": {},
   "outputs": [],
   "source": [
    "dtrain = xgb.DMatrix(train_features, label=train_label)\n",
    "dtest = xgb.DMatrix(test_features, label=test_label)\n",
    "\n",
    "param = {\"max_depth\": 50, \"eta\": 1, \"objective\": \"reg:linear\", \"booster\": \"gbtree\"}\n",
    "evallist = [(dtest, \"eval\"), (dtrain, \"train\")]\n",
    "\n",
    "num_round = 2\n",
    "xg = xgb.train(param, dtrain, num_round, evallist)"
   ]
  },
  {
   "cell_type": "code",
   "execution_count": null,
   "metadata": {},
   "outputs": [],
   "source": [
    "test_results[\"xgb\"] = xg.evaluate(test_features, test_label)\n",
    "\n",
    "print(test_results)"
   ]
  },
  {
   "cell_type": "code",
   "execution_count": null,
   "metadata": {},
   "outputs": [],
   "source": [
    "test_predictions[\"xgb\"] = xg.predict(test_features).flatten()\n",
    "\n",
    "print(test_predictions)\n"
   ]
  },
  {
   "cell_type": "code",
   "execution_count": null,
   "metadata": {},
   "outputs": [],
   "source": [
    "# def conv_model(normalizer):\n",
    "#     CONV_WIDTH = 3\n",
    "\n",
    "#     model = tf.keras.models.Sequential(\n",
    "#         [\n",
    "#             normalizer,\n",
    "#             # tf.keras.layers.Lambda(lambda x: x[:, -CONV_WIDTH:, :]),\n",
    "#             # tf.keras.layers.Conv1D(\n",
    "#             #     filters=64,\n",
    "#             #     kernel_size=(CONV_WIDTH),\n",
    "#             #     strides=1,\n",
    "#             #     padding=\"causal\",\n",
    "#             #     # activation=\"relu\",\n",
    "#             # ),\n",
    "#             tf.keras.layers.Bidirectional(\n",
    "#                 tf.keras.layers.LSTM(128, return_sequences=False)\n",
    "#             ),\n",
    "#             # tf.keras.layers.Bidirectional(\n",
    "#             #     tf.keras.layers.LSTM(64, return_sequences=True)),\n",
    "#             tf.keras.layers.Dense(128),\n",
    "#             tf.keras.layers.Dropout(0.2),\n",
    "#             tf.keras.layers.Dense(1),\n",
    "#         ]\n",
    "#     )\n",
    "\n",
    "#     model.compile(\n",
    "#         loss=\"mse\", optimizer=\"adam\", metrics=[tf.metrics.MeanAbsoluteError()]\n",
    "#     )\n",
    "\n",
    "#     return model\n"
   ]
  },
  {
   "cell_type": "code",
   "execution_count": null,
   "metadata": {},
   "outputs": [],
   "source": [
    "# conv_model = conv_model(normalizer)\n",
    "\n",
    "# conv_model.summary()\n"
   ]
  },
  {
   "cell_type": "code",
   "execution_count": null,
   "metadata": {},
   "outputs": [],
   "source": [
    "# %%time\n",
    "# history = conv_model.fit(\n",
    "#     train_features,\n",
    "#     train_label,\n",
    "#     validation_split=0.2,\n",
    "#     epochs=2000, callbacks=[early_stopping])"
   ]
  },
  {
   "cell_type": "code",
   "execution_count": null,
   "metadata": {},
   "outputs": [],
   "source": [
    "# test_results[\"conv_model\"] = dnn_model.evaluate(test_features, test_label)\n",
    "\n",
    "# print(test_results)\n"
   ]
  },
  {
   "cell_type": "code",
   "execution_count": null,
   "metadata": {},
   "outputs": [],
   "source": [
    "# test_predictions[\"conv_model\"] = dnn_model.predict(test_features).flatten()\n",
    "\n",
    "# print(test_predictions)\n"
   ]
  },
  {
   "cell_type": "code",
   "execution_count": null,
   "metadata": {},
   "outputs": [],
   "source": [
    "def plot_result(labels, preds):\n",
    "    plt.figure(figsize=(15, 10))\n",
    "    plt.scatter(x=labels.index, y=labels, color=\"r\", marker=\".\", label=\"real data\")\n",
    "    plt.scatter(x=labels.index, y=preds, color=\"b\", marker=\"X\", label=\"predictions\")\n",
    "    plt.xlabel(\"time\")\n",
    "    plt.ylabel(\"price\")\n",
    "    plt.title(\"Red is predictions, Blue is real data\")\n",
    "    plt.show()\n"
   ]
  },
  {
   "cell_type": "code",
   "execution_count": null,
   "metadata": {},
   "outputs": [],
   "source": [
    "plot_result(test_label, test_predictions[\"dnn_model\"])"
   ]
  },
  {
   "cell_type": "code",
   "execution_count": null,
   "metadata": {},
   "outputs": [],
   "source": [
    "plot_result(test_label, test_predictions[\"conv_model\"])\n"
   ]
  },
  {
   "cell_type": "code",
   "execution_count": null,
   "metadata": {},
   "outputs": [],
   "source": []
  }
 ],
 "metadata": {
  "interpreter": {
   "hash": "c0fa6df1989e8b1e61ca2e5a40b3f545d2b5d745ee2f55fdad9789d7961ddbf6"
  },
  "kernelspec": {
   "display_name": "Python 3.8.2 64-bit ('env': venv)",
   "name": "python3"
  },
  "language_info": {
   "codemirror_mode": {
    "name": "ipython",
    "version": 3
   },
   "file_extension": ".py",
   "mimetype": "text/x-python",
   "name": "python",
   "nbconvert_exporter": "python",
   "pygments_lexer": "ipython3",
   "version": "3.8.2"
  },
  "orig_nbformat": 4
 },
 "nbformat": 4,
 "nbformat_minor": 2
}
