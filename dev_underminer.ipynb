{
 "cells": [
  {
   "cell_type": "code",
   "execution_count": 1,
   "source": [
    "from datetime import datetime, timedelta\r\n",
    "import pandas as pd\r\n",
    "import pandas_bokeh\r\n",
    "# %load_ext autoreload\r\n",
    "# %autoreload 2\r\n",
    "%matplotlib inline\r\n",
    "%config IPCompleter.greedy = True\r\n",
    "pandas_bokeh.output_notebook()\r\n",
    "import numpy as np\r\n",
    "import matplotlib.pyplot as plt\r\n",
    "import cbpro\r\n",
    "\r\n",
    "import os\r\n",
    "from pathlib import Path\r\n",
    "import seaborn as sns\r\n",
    "\r\n",
    "sns.set(\r\n",
    "    font=\"Franklin Gothic Book\",\r\n",
    "    rc={\r\n",
    "        \"axes.axisbelow\": False,\r\n",
    "        \"axes.edgecolor\": \"lightgrey\",\r\n",
    "        \"axes.facecolor\": \"None\",\r\n",
    "        \"axes.grid\": False,\r\n",
    "        \"axes.labelcolor\": \"dimgrey\",\r\n",
    "        \"axes.spines.right\": False,\r\n",
    "        \"axes.spines.top\": False,\r\n",
    "        \"figure.facecolor\": \"white\",\r\n",
    "        \"lines.solid_capstyle\": \"round\",\r\n",
    "        \"patch.edgecolor\": \"w\",\r\n",
    "        \"patch.force_edgecolor\": True,\r\n",
    "        \"text.color\": \"dimgrey\",\r\n",
    "        \"xtick.bottom\": False,\r\n",
    "        \"xtick.color\": \"dimgrey\",\r\n",
    "        \"xtick.direction\": \"out\",\r\n",
    "        \"xtick.top\": False,\r\n",
    "        \"ytick.color\": \"dimgrey\",\r\n",
    "        \"ytick.direction\": \"out\",\r\n",
    "        \"ytick.left\": False,\r\n",
    "        \"ytick.right\": False,\r\n",
    "    },\r\n",
    ")\r\n",
    "\r\n",
    "sns.set_context(\r\n",
    "    \"notebook\", rc={\"font.size\": 16, \"axes.titlesize\": 20, \"axes.labelsize\": 18}\r\n",
    ")\r\n",
    "\r\n",
    "os.environ[\"TF_FORCE_GPU_ALLOW_GROWTH\"] = \"true\"\r\n",
    "os.environ[\"TF_GPU_THREAD_MODE\"] = \"gpu_private\"\r\n",
    "os.environ[\"TF_CPP_MIN_LOG_LEVEL\"] = \"3\"\r\n",
    "import tensorflow as tf\r\n",
    "\r\n",
    "tf.distribute.OneDeviceStrategy(device=\"/gpu:0\")\r\n",
    "policy = tf.keras.mixed_precision.Policy(\"mixed_float16\")\r\n",
    "tf.keras.mixed_precision.experimental.set_policy(policy)\r\n",
    "np.set_printoptions(suppress=True)\r\n",
    "\r\n",
    "public_client = cbpro.PublicClient()\r\n"
   ],
   "outputs": [
    {
     "output_type": "display_data",
     "data": {
      "text/html": [
       "\n",
       "    <div class=\"bk-root\">\n",
       "        <a href=\"https://bokeh.org\" target=\"_blank\" class=\"bk-logo bk-logo-small bk-logo-notebook\"></a>\n",
       "        <span id=\"1002\">Loading BokehJS ...</span>\n",
       "    </div>"
      ]
     },
     "metadata": {}
    },
    {
     "output_type": "display_data",
     "data": {
      "application/vnd.bokehjs_load.v0+json": "",
      "application/javascript": "\n(function(root) {\n  function now() {\n    return new Date();\n  }\n\n  const force = true;\n\n  if (typeof root._bokeh_onload_callbacks === \"undefined\" || force === true) {\n    root._bokeh_onload_callbacks = [];\n    root._bokeh_is_loading = undefined;\n  }\n\n  const JS_MIME_TYPE = 'application/javascript';\n  const HTML_MIME_TYPE = 'text/html';\n  const EXEC_MIME_TYPE = 'application/vnd.bokehjs_exec.v0+json';\n  const CLASS_NAME = 'output_bokeh rendered_html';\n\n  /**\n   * Render data to the DOM node\n   */\n  function render(props, node) {\n    const script = document.createElement(\"script\");\n    node.appendChild(script);\n  }\n\n  /**\n   * Handle when an output is cleared or removed\n   */\n  function handleClearOutput(event, handle) {\n    const cell = handle.cell;\n\n    const id = cell.output_area._bokeh_element_id;\n    const server_id = cell.output_area._bokeh_server_id;\n    // Clean up Bokeh references\n    if (id != null && id in Bokeh.index) {\n      Bokeh.index[id].model.document.clear();\n      delete Bokeh.index[id];\n    }\n\n    if (server_id !== undefined) {\n      // Clean up Bokeh references\n      const cmd_clean = \"from bokeh.io.state import curstate; print(curstate().uuid_to_server['\" + server_id + \"'].get_sessions()[0].document.roots[0]._id)\";\n      cell.notebook.kernel.execute(cmd_clean, {\n        iopub: {\n          output: function(msg) {\n            const id = msg.content.text.trim();\n            if (id in Bokeh.index) {\n              Bokeh.index[id].model.document.clear();\n              delete Bokeh.index[id];\n            }\n          }\n        }\n      });\n      // Destroy server and session\n      const cmd_destroy = \"import bokeh.io.notebook as ion; ion.destroy_server('\" + server_id + \"')\";\n      cell.notebook.kernel.execute(cmd_destroy);\n    }\n  }\n\n  /**\n   * Handle when a new output is added\n   */\n  function handleAddOutput(event, handle) {\n    const output_area = handle.output_area;\n    const output = handle.output;\n\n    // limit handleAddOutput to display_data with EXEC_MIME_TYPE content only\n    if ((output.output_type != \"display_data\") || (!Object.prototype.hasOwnProperty.call(output.data, EXEC_MIME_TYPE))) {\n      return\n    }\n\n    const toinsert = output_area.element.find(\".\" + CLASS_NAME.split(' ')[0]);\n\n    if (output.metadata[EXEC_MIME_TYPE][\"id\"] !== undefined) {\n      toinsert[toinsert.length - 1].firstChild.textContent = output.data[JS_MIME_TYPE];\n      // store reference to embed id on output_area\n      output_area._bokeh_element_id = output.metadata[EXEC_MIME_TYPE][\"id\"];\n    }\n    if (output.metadata[EXEC_MIME_TYPE][\"server_id\"] !== undefined) {\n      const bk_div = document.createElement(\"div\");\n      bk_div.innerHTML = output.data[HTML_MIME_TYPE];\n      const script_attrs = bk_div.children[0].attributes;\n      for (let i = 0; i < script_attrs.length; i++) {\n        toinsert[toinsert.length - 1].firstChild.setAttribute(script_attrs[i].name, script_attrs[i].value);\n        toinsert[toinsert.length - 1].firstChild.textContent = bk_div.children[0].textContent\n      }\n      // store reference to server id on output_area\n      output_area._bokeh_server_id = output.metadata[EXEC_MIME_TYPE][\"server_id\"];\n    }\n  }\n\n  function register_renderer(events, OutputArea) {\n\n    function append_mime(data, metadata, element) {\n      // create a DOM node to render to\n      const toinsert = this.create_output_subarea(\n        metadata,\n        CLASS_NAME,\n        EXEC_MIME_TYPE\n      );\n      this.keyboard_manager.register_events(toinsert);\n      // Render to node\n      const props = {data: data, metadata: metadata[EXEC_MIME_TYPE]};\n      render(props, toinsert[toinsert.length - 1]);\n      element.append(toinsert);\n      return toinsert\n    }\n\n    /* Handle when an output is cleared or removed */\n    events.on('clear_output.CodeCell', handleClearOutput);\n    events.on('delete.Cell', handleClearOutput);\n\n    /* Handle when a new output is added */\n    events.on('output_added.OutputArea', handleAddOutput);\n\n    /**\n     * Register the mime type and append_mime function with output_area\n     */\n    OutputArea.prototype.register_mime_type(EXEC_MIME_TYPE, append_mime, {\n      /* Is output safe? */\n      safe: true,\n      /* Index of renderer in `output_area.display_order` */\n      index: 0\n    });\n  }\n\n  // register the mime type if in Jupyter Notebook environment and previously unregistered\n  if (root.Jupyter !== undefined) {\n    const events = require('base/js/events');\n    const OutputArea = require('notebook/js/outputarea').OutputArea;\n\n    if (OutputArea.prototype.mime_types().indexOf(EXEC_MIME_TYPE) == -1) {\n      register_renderer(events, OutputArea);\n    }\n  }\n\n  \n  if (typeof (root._bokeh_timeout) === \"undefined\" || force === true) {\n    root._bokeh_timeout = Date.now() + 5000;\n    root._bokeh_failed_load = false;\n  }\n\n  const NB_LOAD_WARNING = {'data': {'text/html':\n     \"<div style='background-color: #fdd'>\\n\"+\n     \"<p>\\n\"+\n     \"BokehJS does not appear to have successfully loaded. If loading BokehJS from CDN, this \\n\"+\n     \"may be due to a slow or bad network connection. Possible fixes:\\n\"+\n     \"</p>\\n\"+\n     \"<ul>\\n\"+\n     \"<li>re-rerun `output_notebook()` to attempt to load from CDN again, or</li>\\n\"+\n     \"<li>use INLINE resources instead, as so:</li>\\n\"+\n     \"</ul>\\n\"+\n     \"<code>\\n\"+\n     \"from bokeh.resources import INLINE\\n\"+\n     \"output_notebook(resources=INLINE)\\n\"+\n     \"</code>\\n\"+\n     \"</div>\"}};\n\n  function display_loaded() {\n    const el = document.getElementById(\"1002\");\n    if (el != null) {\n      el.textContent = \"BokehJS is loading...\";\n    }\n    if (root.Bokeh !== undefined) {\n      if (el != null) {\n        el.textContent = \"BokehJS \" + root.Bokeh.version + \" successfully loaded.\";\n      }\n    } else if (Date.now() < root._bokeh_timeout) {\n      setTimeout(display_loaded, 100)\n    }\n  }\n\n\n  function run_callbacks() {\n    try {\n      root._bokeh_onload_callbacks.forEach(function(callback) {\n        if (callback != null)\n          callback();\n      });\n    } finally {\n      delete root._bokeh_onload_callbacks\n    }\n    console.debug(\"Bokeh: all callbacks have finished\");\n  }\n\n  function load_libs(css_urls, js_urls, callback) {\n    if (css_urls == null) css_urls = [];\n    if (js_urls == null) js_urls = [];\n\n    root._bokeh_onload_callbacks.push(callback);\n    if (root._bokeh_is_loading > 0) {\n      console.debug(\"Bokeh: BokehJS is being loaded, scheduling callback at\", now());\n      return null;\n    }\n    if (js_urls == null || js_urls.length === 0) {\n      run_callbacks();\n      return null;\n    }\n    console.debug(\"Bokeh: BokehJS not loaded, scheduling load and callback at\", now());\n    root._bokeh_is_loading = css_urls.length + js_urls.length;\n\n    function on_load() {\n      root._bokeh_is_loading--;\n      if (root._bokeh_is_loading === 0) {\n        console.debug(\"Bokeh: all BokehJS libraries/stylesheets loaded\");\n        run_callbacks()\n      }\n    }\n\n    function on_error(url) {\n      console.error(\"failed to load \" + url);\n    }\n\n    for (let i = 0; i < css_urls.length; i++) {\n      const url = css_urls[i];\n      const element = document.createElement(\"link\");\n      element.onload = on_load;\n      element.onerror = on_error.bind(null, url);\n      element.rel = \"stylesheet\";\n      element.type = \"text/css\";\n      element.href = url;\n      console.debug(\"Bokeh: injecting link tag for BokehJS stylesheet: \", url);\n      document.body.appendChild(element);\n    }\n\n    for (let i = 0; i < js_urls.length; i++) {\n      const url = js_urls[i];\n      const element = document.createElement('script');\n      element.onload = on_load;\n      element.onerror = on_error.bind(null, url);\n      element.async = false;\n      element.src = url;\n      console.debug(\"Bokeh: injecting script tag for BokehJS library: \", url);\n      document.head.appendChild(element);\n    }\n  };\n\n  function inject_raw_css(css) {\n    const element = document.createElement(\"style\");\n    element.appendChild(document.createTextNode(css));\n    document.body.appendChild(element);\n  }\n\n  \n  const js_urls = [\"https://cdn.bokeh.org/bokeh/release/bokeh-2.4.0.min.js\", \"https://cdn.bokeh.org/bokeh/release/bokeh-gl-2.4.0.min.js\", \"https://cdn.bokeh.org/bokeh/release/bokeh-widgets-2.4.0.min.js\", \"https://cdn.bokeh.org/bokeh/release/bokeh-tables-2.4.0.min.js\", \"https://cdn.bokeh.org/bokeh/release/bokeh-mathjax-2.4.0.min.js\"];\n  const css_urls = [];\n  \n\n  const inline_js = [\n    function(Bokeh) {\n      Bokeh.set_log_level(\"info\");\n    },\n    function(Bokeh) {\n    \n    \n    }\n  ];\n\n  function run_inline_js() {\n    \n    if (root.Bokeh !== undefined || force === true) {\n      \n    for (let i = 0; i < inline_js.length; i++) {\n      inline_js[i].call(root, root.Bokeh);\n    }\n    if (force === true) {\n        display_loaded();\n      }} else if (Date.now() < root._bokeh_timeout) {\n      setTimeout(run_inline_js, 100);\n    } else if (!root._bokeh_failed_load) {\n      console.log(\"Bokeh: BokehJS failed to load within specified timeout.\");\n      root._bokeh_failed_load = true;\n    } else if (force !== true) {\n      const cell = $(document.getElementById(\"1002\")).parents('.cell').data().cell;\n      cell.output_area.append_execute_result(NB_LOAD_WARNING)\n    }\n\n  }\n\n  if (root._bokeh_is_loading === 0) {\n    console.debug(\"Bokeh: BokehJS loaded, going straight to plotting\");\n    run_inline_js();\n  } else {\n    load_libs(css_urls, js_urls, function() {\n      console.debug(\"Bokeh: BokehJS plotting callback run at\", now());\n      run_inline_js();\n    });\n  }\n}(window));"
     },
     "metadata": {}
    },
    {
     "output_type": "stream",
     "name": "stdout",
     "text": [
      "WARNING:tensorflow:Mixed precision compatibility check (mixed_float16): WARNING\n",
      "Your GPU may run slowly with dtype policy mixed_float16 because it does not have compute capability of at least 7.0. Your GPU:\n",
      "  NVIDIA GeForce GTX 1050, compute capability 6.1\n",
      "See https://developer.nvidia.com/cuda-gpus for a list of GPUs and their compute capabilities.\n",
      "If you will use compatible GPU(s) not attached to this host, e.g. by running a multi-worker model, you can ignore this warning. This message will only be logged once\n"
     ]
    }
   ],
   "metadata": {}
  },
  {
   "cell_type": "code",
   "execution_count": 2,
   "source": [
    "class MinerMeta(type):\r\n",
    "    def compile_historic(self, num_days=100, write_csv=False, read_csv=False):\r\n",
    "        file = Path.cwd() / f\"{self.coin}_histdata.csv\"\r\n",
    "        if read_csv is True:\r\n",
    "            df = pd.read_csv(file, index_col=\"time\", infer_datetime_format=True)\r\n",
    "            return df\r\n",
    "        else:\r\n",
    "            finish = datetime.now()\r\n",
    "            start = finish - timedelta(num_days)\r\n",
    "            delta = timedelta(hours=300)\r\n",
    "            df = pd.DataFrame()\r\n",
    "\r\n",
    "            while finish > start:\r\n",
    "                historic = public_client.get_product_historic_rates(\r\n",
    "                    f\"{self.coin}-USD\",\r\n",
    "                    granularity=3600,\r\n",
    "                    start=start,\r\n",
    "                    end=start + delta,\r\n",
    "                )\r\n",
    "                start += delta\r\n",
    "                df = df.append(historic, ignore_index=True, verify_integrity=True)\r\n",
    "            df.columns = [\"time\", \"low\", \"high\", \"open\", \"close\", \"volume\"]\r\n",
    "            date_time = pd.to_datetime(df[\"time\"], unit=\"s\")\r\n",
    "            # df.set_index(\"time\", inplace=True)\r\n",
    "            df.sort_values(by=\"time\", ascending=False, inplace=True)\r\n",
    "\r\n",
    "            timestamp_s = date_time.map(pd.Timestamp.timestamp)\r\n",
    "            day = 24 * 60 * 60\r\n",
    "            year = (365.2425) * day\r\n",
    "            df[\"Day sin\"] = np.sin(timestamp_s * (2 * np.pi / day))\r\n",
    "            df[\"Day cos\"] = np.cos(timestamp_s * (2 * np.pi / day))\r\n",
    "            df[\"Year sin\"] = np.sin(timestamp_s * (2 * np.pi / year))\r\n",
    "            df[\"Year cos\"] = np.cos(timestamp_s * (2 * np.pi / year))\r\n",
    "            df.reset_index(drop=True, inplace=True)\r\n",
    "            df[\"time\"] = pd.to_datetime(df[\"time\"], unit=\"s\")\r\n",
    "            df.set_index(\"time\", inplace=True, verify_integrity=False)\r\n",
    "            df.sort_index(ascending=False)\r\n",
    "            if write_csv is True:\r\n",
    "                df.to_csv(file, index=True)\r\n",
    "\r\n",
    "            return df\r\n",
    "\r\n",
    "    def get_day_stats(self):\r\n",
    "        result = getattr(self, \"day_stats\", None)\r\n",
    "        if result is None:\r\n",
    "            ticker = public_client.get_product_24hr_stats(f\"{self.coin}-USD\")\r\n",
    "            df = pd.DataFrame.from_dict(ticker, orient=\"index\")\r\n",
    "            self.day_stats = df\r\n",
    "        return df\r\n",
    "\r\n",
    "    def year_day_fft(self, col):\r\n",
    "        df = self.compile_historic()\r\n",
    "        today = datetime.today()\r\n",
    "\r\n",
    "        fft = tf.signal.rfft(df[col])\r\n",
    "        f_per_dataset = np.arange(0, len(fft))\r\n",
    "\r\n",
    "        n_samples_h = 1\r\n",
    "        hours_per_year = 24 * 365.2524\r\n",
    "        years_per_dataset = n_samples_h / (hours_per_year)\r\n",
    "\r\n",
    "        f_per_year = f_per_dataset / years_per_dataset\r\n",
    "        plt.step(f_per_year, np.abs(fft))\r\n",
    "        plt.xscale(\"log\")\r\n",
    "        plt.ylim(1000, 50000)\r\n",
    "        plt.xlim([0.1, max(plt.xlim())])\r\n",
    "        plt.xticks([1, 365.2524], labels=[\"1/Year\", \"1/day\"])\r\n",
    "        plt.xlabel(\"Frequency (log scale)\")\r\n",
    "\r\n",
    "        return plt.show()\r\n",
    "\r\n",
    "    def ttsplit_norm(self, df, split_time=0.7, feature_plot=False):\r\n",
    "        # train_df Test Split\r\n",
    "        n = len(df)\r\n",
    "        train_df = df[0 : int(n * 0.7)]\r\n",
    "        val_df = df[int(n * 0.7) : int(n * 0.9)]\r\n",
    "        test_df = df[int(n * 0.9) :]\r\n",
    "        # Normalize the Data\r\n",
    "        train_df_mean = train_df.mean()\r\n",
    "        train_df_std = train_df.std()\r\n",
    "\r\n",
    "        train_df = (train_df - train_df_mean) / train_df_std\r\n",
    "        val_df = (val_df - train_df_mean) / train_df_std\r\n",
    "        test_df = (test_df - train_df_mean) / train_df_std\r\n",
    "\r\n",
    "        # Create Feature Plot if wanted\r\n",
    "        if feature_plot is True:\r\n",
    "            df_std = (df - train_df_mean) / train_df_std\r\n",
    "            df_std = df_std.melt(var_name=\"Column\", value_name=\"Normalized\")\r\n",
    "            plt.figure(figsize=(12, 6))\r\n",
    "            ax = sns.violinplot(x=\"Column\", y=\"Normalized\", data=df_std)\r\n",
    "            ax.set_xticklabels(df.keys(), rotation=90)\r\n",
    "            ax.set_title(\"train_dfing Data Feature Dist with whole DF Mean\")\r\n",
    "\r\n",
    "            return train_df, val_df, test_df\r\n",
    "\r\n",
    "        return train_df, val_df, test_df\r\n",
    "\r\n",
    "    def __call__(self, *args, **kwargs):\r\n",
    "\r\n",
    "        cls = type.__call__(self, *args)\r\n",
    "\r\n",
    "        # setattr(cls, \"compile_historic\", self.compile_historic)\r\n",
    "        # setattr(cls, \"year_day_fft\", self.year_day_fft)\r\n",
    "        # setattr(cls, \"ttsplit_norm\", self.ttsplit_norm)\r\n",
    "        # setattr(cls, \"get_day_stats\", self.get_day_stats)\r\n",
    "        setattr(cls, \"day_stats\", self.get_day_stats())\r\n",
    "\r\n",
    "        # for key, value in historic.items():\r\n",
    "        #     setattr(cls, \"hist_\" + key, value)\r\n",
    "        # for key, value in ticker.items():\r\n",
    "        #     setattr(cls, \"tick_\" + key, value)\r\n",
    "\r\n",
    "        return cls\r\n",
    "\r\n",
    "\r\n",
    "class eth(metaclass=MinerMeta):\r\n",
    "    coin = \"eth\"\r\n"
   ],
   "outputs": [],
   "metadata": {}
  },
  {
   "cell_type": "code",
   "execution_count": 3,
   "source": [
    "df = eth.compile_historic(num_days=365)\r\n",
    "train_df, val_df, test_df = eth.ttsplit_norm(df)\r\n"
   ],
   "outputs": [],
   "metadata": {}
  },
  {
   "cell_type": "code",
   "execution_count": 4,
   "source": [
    "class WindowGenerator:\r\n",
    "    def __init__(\r\n",
    "        self,\r\n",
    "        input_width,\r\n",
    "        label_width,\r\n",
    "        shift,\r\n",
    "        label_columns=None,\r\n",
    "        train_df=train_df,\r\n",
    "        val_df=val_df,\r\n",
    "        test_df=test_df,\r\n",
    "    ):\r\n",
    "        # Store the raw data.\r\n",
    "        self.train_df = train_df\r\n",
    "        self.val_df = val_df\r\n",
    "        self.test_df = test_df\r\n",
    "\r\n",
    "        # Work out the label column indices.\r\n",
    "        self.label_columns = label_columns\r\n",
    "        if label_columns is not None:\r\n",
    "            self.label_columns_indices = {\r\n",
    "                name: i for i, name in enumerate(label_columns)\r\n",
    "            }\r\n",
    "        self.column_indices = {name: i for i, name in enumerate(train_df.columns)}\r\n",
    "\r\n",
    "        # Work out the window parameters.\r\n",
    "        self.input_width = input_width\r\n",
    "        self.label_width = label_width\r\n",
    "        self.shift = shift\r\n",
    "\r\n",
    "        self.total_window_size = input_width + shift\r\n",
    "\r\n",
    "        self.input_slice = slice(0, input_width)\r\n",
    "        self.input_indices = np.arange(self.total_window_size)[self.input_slice]\r\n",
    "\r\n",
    "        self.label_start = self.total_window_size - self.label_width\r\n",
    "        self.labels_slice = slice(self.label_start, None)\r\n",
    "        self.label_indices = np.arange(self.total_window_size)[self.labels_slice]\r\n",
    "\r\n",
    "    def split_window(self, features):\r\n",
    "        inputs = features[:, self.input_slice, :]\r\n",
    "        labels = features[:, self.labels_slice, :]\r\n",
    "        if self.label_columns is not None:\r\n",
    "            labels = tf.stack(\r\n",
    "                [\r\n",
    "                    labels[:, :, self.column_indices[name]]\r\n",
    "                    for name in self.label_columns\r\n",
    "                ],\r\n",
    "                axis=-1,\r\n",
    "            )\r\n",
    "\r\n",
    "        # Slicing doesn't preserve static shape information, so set the shapes\r\n",
    "        # manually. This way the `tf.data.Datasets` are easier to inspect.\r\n",
    "        inputs.set_shape([None, self.input_width, None])\r\n",
    "        labels.set_shape([None, self.label_width, None])\r\n",
    "\r\n",
    "        return inputs, labels\r\n",
    "\r\n",
    "    def make_ds(self, data):\r\n",
    "        data = np.array(data, dtype=np.float32)\r\n",
    "        ds = tf.keras.preprocessing.timeseries_dataset_from_array(\r\n",
    "            data=data,\r\n",
    "            targets=None,\r\n",
    "            sequence_length=self.total_window_size,\r\n",
    "            sequence_stride=1,\r\n",
    "            shuffle=True,\r\n",
    "            batch_size=32,\r\n",
    "        )\r\n",
    "\r\n",
    "        ds = ds.map(self.split_window)\r\n",
    "\r\n",
    "        return ds\r\n",
    "\r\n",
    "    def plot(self, model=None, plot_col=\"close\", max_subplots=3):\r\n",
    "        inputs, labels = self.example\r\n",
    "        plt.figure(figsize=(15, 10))\r\n",
    "        plot_col_index = self.column_indices[plot_col]\r\n",
    "        max_n = min(max_subplots, len(inputs))\r\n",
    "        for n in range(max_n):\r\n",
    "            plt.subplot(max_n, 1, n + 1)\r\n",
    "            plt.ylabel(f\"{plot_col} [normed]\")\r\n",
    "            plt.plot(\r\n",
    "                self.input_indices,\r\n",
    "                inputs[n, :, plot_col_index],\r\n",
    "                label=\"Inputs\",\r\n",
    "                marker=\".\",\r\n",
    "                zorder=-10,\r\n",
    "            )\r\n",
    "\r\n",
    "            if self.label_columns:\r\n",
    "                label_col_index = self.label_columns_indices.get(plot_col, None)\r\n",
    "            else:\r\n",
    "                label_col_index = plot_col_index\r\n",
    "\r\n",
    "            if label_col_index is None:\r\n",
    "                continue\r\n",
    "\r\n",
    "            plt.scatter(\r\n",
    "                self.label_indices,\r\n",
    "                labels[n, :, label_col_index],\r\n",
    "                # edgecolors=\"k\",\r\n",
    "                # label=\"Labels\",\r\n",
    "                # c=\"#2ca02c\",\r\n",
    "                s=64,\r\n",
    "            )\r\n",
    "            if model is not None:\r\n",
    "                predictions = model(inputs)\r\n",
    "                plt.scatter(\r\n",
    "                    self.label_indices,\r\n",
    "                    predictions[n, :, label_col_index],\r\n",
    "                    marker=\"X\",\r\n",
    "                    # edgecolors=\"k\",\r\n",
    "                    # label=\"Predictions\",\r\n",
    "                    # c=\"#ff7f0e\",\r\n",
    "                    s=64,\r\n",
    "                )\r\n",
    "\r\n",
    "            if n == 0:\r\n",
    "                plt.legend()\r\n",
    "\r\n",
    "        plt.xlabel(\"Time [h]\")\r\n",
    "\r\n",
    "    @property\r\n",
    "    def train(self):\r\n",
    "        return self.make_ds(self.train_df)\r\n",
    "\r\n",
    "    @property\r\n",
    "    def val(self):\r\n",
    "        return self.make_ds(self.val_df)\r\n",
    "\r\n",
    "    @property\r\n",
    "    def test(self):\r\n",
    "        return self.make_ds(self.test_df)\r\n",
    "\r\n",
    "    @property\r\n",
    "    def example(self):\r\n",
    "        \"\"\"Get and cache an example batch of `inputs, labels` for plotting.\"\"\"\r\n",
    "        result = getattr(self, \"_example\", None)\r\n",
    "        if result is None:\r\n",
    "            # No example batch was found, so get one from the `.train` dataset\r\n",
    "            result = next(iter(self.train))\r\n",
    "            # And cache it for next time\r\n",
    "            self._example = result\r\n",
    "        return result\r\n",
    "\r\n",
    "    def __repr__(self):\r\n",
    "        return \"\\n\".join(\r\n",
    "            [\r\n",
    "                f\"Total window size: {self.total_window_size}\",\r\n",
    "                f\"Input indices: {self.input_indices}\",\r\n",
    "                f\"Label indices: {self.label_indices}\",\r\n",
    "                f\"Label column name(s): {self.label_columns}\",\r\n",
    "            ]\r\n",
    "        )\r\n"
   ],
   "outputs": [],
   "metadata": {}
  },
  {
   "cell_type": "code",
   "execution_count": 5,
   "source": [
    "w1 = WindowGenerator(input_width=24, label_width=1, shift=24, label_columns=[\"close\"])\r\n",
    "w1\r\n",
    "w2 = WindowGenerator(\r\n",
    "    input_width=6,\r\n",
    "    label_width=1,\r\n",
    "    shift=1,\r\n",
    "    label_columns=[\"close\"],\r\n",
    ")\r\n",
    "w2\r\n"
   ],
   "outputs": [
    {
     "output_type": "execute_result",
     "data": {
      "text/plain": [
       "Total window size: 7\n",
       "Input indices: [0 1 2 3 4 5]\n",
       "Label indices: [6]\n",
       "Label column name(s): ['close']"
      ]
     },
     "metadata": {},
     "execution_count": 5
    }
   ],
   "metadata": {}
  },
  {
   "cell_type": "code",
   "execution_count": 6,
   "source": [
    "# Each element is an (inputs, label) pair.\r\n",
    "w2.train.element_spec"
   ],
   "outputs": [
    {
     "output_type": "execute_result",
     "data": {
      "text/plain": [
       "(TensorSpec(shape=(None, 6, 9), dtype=tf.float32, name=None),\n",
       " TensorSpec(shape=(None, 1, 1), dtype=tf.float32, name=None))"
      ]
     },
     "metadata": {},
     "execution_count": 6
    }
   ],
   "metadata": {}
  },
  {
   "cell_type": "code",
   "execution_count": 7,
   "source": [
    "single_step_window = WindowGenerator(\r\n",
    "    input_width=1, label_width=1, shift=1, label_columns=[\"close\"]\r\n",
    ")\r\n",
    "single_step_window\r\n"
   ],
   "outputs": [
    {
     "output_type": "execute_result",
     "data": {
      "text/plain": [
       "Total window size: 2\n",
       "Input indices: [0]\n",
       "Label indices: [1]\n",
       "Label column name(s): ['close']"
      ]
     },
     "metadata": {},
     "execution_count": 7
    }
   ],
   "metadata": {}
  },
  {
   "cell_type": "code",
   "execution_count": 8,
   "source": [
    "for example_inputs, example_labels in single_step_window.train.take(1):\r\n",
    "  print(f'Inputs shape (batch, time, features): {example_inputs.shape}')\r\n",
    "  print(f'Labels shape (batch, time, features): {example_labels.shape}')"
   ],
   "outputs": [
    {
     "output_type": "stream",
     "name": "stdout",
     "text": [
      "Inputs shape (batch, time, features): (32, 1, 9)\n",
      "Labels shape (batch, time, features): (32, 1, 1)\n"
     ]
    }
   ],
   "metadata": {}
  },
  {
   "cell_type": "code",
   "execution_count": 9,
   "source": [
    "class Baseline(tf.keras.Model):\r\n",
    "    def __init__(self, label_index=None):\r\n",
    "        super().__init__()\r\n",
    "        self.label_index = label_index\r\n",
    "\r\n",
    "    def call(self, inputs):\r\n",
    "        if self.label_index is None:\r\n",
    "            return inputs\r\n",
    "        result = inputs[:, :, self.label_index]\r\n",
    "        return result[:, :, tf.newaxis]\r\n"
   ],
   "outputs": [],
   "metadata": {}
  },
  {
   "cell_type": "code",
   "execution_count": 10,
   "source": [
    "column_indices = {name: i for i, name in enumerate(df.columns)}\r\n",
    "\r\n",
    "baseline = Baseline(label_index=column_indices[\"close\"])\r\n",
    "\r\n",
    "baseline.compile(\r\n",
    "    loss=tf.losses.MeanSquaredError(), metrics=[tf.metrics.MeanAbsoluteError()]\r\n",
    ")\r\n",
    "\r\n",
    "val_performance = {}\r\n",
    "performance = {}\r\n",
    "val_performance[\"Baseline\"] = baseline.evaluate(single_step_window.val)\r\n",
    "performance[\"Baseline\"] = baseline.evaluate(single_step_window.test, verbose=0)\r\n"
   ],
   "outputs": [
    {
     "output_type": "stream",
     "name": "stdout",
     "text": [
      "55/55 [==============================] - 0s 3ms/step - loss: 9.3651e-05 - mean_absolute_error: 0.0055\n"
     ]
    }
   ],
   "metadata": {}
  },
  {
   "cell_type": "code",
   "execution_count": 11,
   "source": [
    "wide_window = WindowGenerator(\r\n",
    "    input_width=24, label_width=24, shift=1, label_columns=[\"close\"]\r\n",
    ")\r\n",
    "\r\n",
    "wide_window\r\n"
   ],
   "outputs": [
    {
     "output_type": "execute_result",
     "data": {
      "text/plain": [
       "Total window size: 25\n",
       "Input indices: [ 0  1  2  3  4  5  6  7  8  9 10 11 12 13 14 15 16 17 18 19 20 21 22 23]\n",
       "Label indices: [ 1  2  3  4  5  6  7  8  9 10 11 12 13 14 15 16 17 18 19 20 21 22 23 24]\n",
       "Label column name(s): ['close']"
      ]
     },
     "metadata": {},
     "execution_count": 11
    }
   ],
   "metadata": {}
  },
  {
   "cell_type": "code",
   "execution_count": 12,
   "source": [
    "wide_window.plot(baseline)"
   ],
   "outputs": [
    {
     "output_type": "display_data",
     "data": {
      "image/png": "[encoded data removed]",
      "text/plain": [
       "<Figure size 1080x720 with 3 Axes>"
      ]
     },
     "metadata": {}
    }
   ],
   "metadata": {}
  },
  {
   "cell_type": "code",
   "execution_count": 13,
   "source": [
    "linear = tf.keras.Sequential([tf.keras.layers.Dense(units=1)])\r\n",
    "\r\n",
    "print(\"Input shape:\", single_step_window.example[0].shape)\r\n",
    "print(\"Output shape:\", linear(single_step_window.example[0]).shape)\r\n"
   ],
   "outputs": [
    {
     "output_type": "stream",
     "name": "stdout",
     "text": [
      "Input shape: (32, 1, 9)\n",
      "Output shape: (32, 1, 1)\n"
     ]
    }
   ],
   "metadata": {}
  },
  {
   "cell_type": "code",
   "execution_count": 14,
   "source": [
    "MAX_EPOCHS = 20\r\n",
    "\r\n",
    "\r\n",
    "def compile_and_fit(model, window, patience=2):\r\n",
    "    early_stopping = tf.keras.callbacks.EarlyStopping(\r\n",
    "        monitor=\"val_loss\", patience=patience, mode=\"min\"\r\n",
    "    )\r\n",
    "\r\n",
    "    model.compile(\r\n",
    "        loss=tf.losses.MeanSquaredError(),\r\n",
    "        optimizer=tf.optimizers.Adam(),\r\n",
    "        metrics=[tf.metrics.MeanAbsoluteError()],\r\n",
    "    )\r\n",
    "\r\n",
    "    history = model.fit(\r\n",
    "        window.train,\r\n",
    "        epochs=MAX_EPOCHS,\r\n",
    "        validation_data=window.val,\r\n",
    "        callbacks=[early_stopping],\r\n",
    "    )\r\n",
    "    return history\r\n"
   ],
   "outputs": [],
   "metadata": {}
  },
  {
   "cell_type": "code",
   "execution_count": 15,
   "source": [
    "history = compile_and_fit(linear, single_step_window)\r\n",
    "\r\n",
    "val_performance[\"Linear\"] = linear.evaluate(single_step_window.val)\r\n",
    "performance[\"Linear\"] = linear.evaluate(single_step_window.test)\r\n"
   ],
   "outputs": [
    {
     "output_type": "stream",
     "name": "stdout",
     "text": [
      "Epoch 1/20\n",
      "192/192 [==============================] - 3s 10ms/step - loss: 0.8234 - mean_absolute_error: 0.6550 - val_loss: 2.5297 - val_mean_absolute_error: 1.5228\n",
      "Epoch 2/20\n",
      "192/192 [==============================] - 1s 7ms/step - loss: 0.4710 - mean_absolute_error: 0.4846 - val_loss: 1.3348 - val_mean_absolute_error: 1.1068\n",
      "Epoch 3/20\n",
      "192/192 [==============================] - 2s 8ms/step - loss: 0.2630 - mean_absolute_error: 0.3527 - val_loss: 0.6300 - val_mean_absolute_error: 0.7579\n",
      "Epoch 4/20\n",
      "192/192 [==============================] - 2s 9ms/step - loss: 0.1406 - mean_absolute_error: 0.2506 - val_loss: 0.2817 - val_mean_absolute_error: 0.5047\n",
      "Epoch 5/20\n",
      "192/192 [==============================] - 2s 8ms/step - loss: 0.0712 - mean_absolute_error: 0.1731 - val_loss: 0.1084 - val_mean_absolute_error: 0.3094\n",
      "Epoch 6/20\n",
      "130/192 [===================>..........] - ETA: 0s - loss: 0.0377 - mean_absolute_error: 0.1238"
     ]
    }
   ],
   "metadata": {}
  },
  {
   "cell_type": "code",
   "execution_count": null,
   "source": [
    "print('Input shape:', wide_window.example[0].shape)\r\n",
    "print('Output shape:', baseline(wide_window.example[0]).shape)\r\n",
    "wide_window.plot(linear)"
   ],
   "outputs": [],
   "metadata": {}
  },
  {
   "cell_type": "code",
   "execution_count": null,
   "source": [
    "plt.bar(x = range(len(train_df.columns)),\r\n",
    "        height=linear.layers[0].kernel[:,0].numpy())\r\n",
    "axis = plt.gca()\r\n",
    "axis.set_xticks(range(len(train_df.columns)))\r\n",
    "_ = axis.set_xticklabels(train_df.columns, rotation=90)"
   ],
   "outputs": [],
   "metadata": {}
  },
  {
   "cell_type": "code",
   "execution_count": null,
   "source": [
    "dense = tf.keras.Sequential([\r\n",
    "    tf.keras.layers.Dense(units=64, activation='relu'),\r\n",
    "    tf.keras.layers.Dense(units=64, activation='relu'),\r\n",
    "    tf.keras.layers.Dense(units=1)\r\n",
    "])\r\n",
    "\r\n",
    "history = compile_and_fit(dense, single_step_window)\r\n",
    "\r\n",
    "val_performance['Dense'] = dense.evaluate(single_step_window.val)\r\n",
    "performance['Dense'] = dense.evaluate(single_step_window.test, verbose=0)"
   ],
   "outputs": [],
   "metadata": {}
  },
  {
   "cell_type": "code",
   "execution_count": null,
   "source": [
    "single_step_window.plot(dense)"
   ],
   "outputs": [],
   "metadata": {}
  },
  {
   "cell_type": "code",
   "execution_count": null,
   "source": [
    "CONV_WIDTH = 3\r\n",
    "conv_window = WindowGenerator(\r\n",
    "    input_width=CONV_WIDTH,\r\n",
    "    label_width=1,\r\n",
    "    shift=1,\r\n",
    "    label_columns=['close'])\r\n",
    "\r\n",
    "conv_window"
   ],
   "outputs": [],
   "metadata": {}
  },
  {
   "cell_type": "code",
   "execution_count": null,
   "source": [
    "conv_window.plot()\r\n",
    "plt.title(\"Given 3 hours of inputs, predict 1 hour into the future.\")"
   ],
   "outputs": [],
   "metadata": {}
  },
  {
   "cell_type": "code",
   "execution_count": null,
   "source": [
    "multi_step_dense = tf.keras.Sequential([\r\n",
    "    # Shape: (time, features) => (time*features)\r\n",
    "    tf.keras.layers.Flatten(),\r\n",
    "    tf.keras.layers.Dense(units=32, activation='relu'),\r\n",
    "    tf.keras.layers.Dense(units=32, activation='relu'),\r\n",
    "    tf.keras.layers.Dense(units=1),\r\n",
    "    # Add back the time dimension.\r\n",
    "    # Shape: (outputs) => (1, outputs)\r\n",
    "    tf.keras.layers.Reshape([1, -1]),\r\n",
    "])"
   ],
   "outputs": [],
   "metadata": {}
  },
  {
   "cell_type": "code",
   "execution_count": null,
   "source": [
    "print('Input shape:', conv_window.example[0].shape)\r\n",
    "print('Output shape:', multi_step_dense(conv_window.example[0]).shape)"
   ],
   "outputs": [],
   "metadata": {}
  },
  {
   "cell_type": "code",
   "execution_count": null,
   "source": [
    "import IPython\r\n",
    "\r\n",
    "history = compile_and_fit(multi_step_dense, conv_window)\r\n",
    "\r\n",
    "IPython.display.clear_output()\r\n",
    "val_performance[\"Multi step dense\"] = multi_step_dense.evaluate(conv_window.val)\r\n",
    "performance[\"Multi step dense\"] = multi_step_dense.evaluate(conv_window.test, verbose=0)\r\n"
   ],
   "outputs": [],
   "metadata": {}
  },
  {
   "cell_type": "code",
   "execution_count": null,
   "source": [
    "conv_window.plot(multi_step_dense)\r\n"
   ],
   "outputs": [],
   "metadata": {}
  },
  {
   "cell_type": "code",
   "execution_count": null,
   "source": [
    "# The main down-side of this approach is that the resulting model can only be executed on input windows of exactly this shape.\r\n",
    "print(\"Input shape:\", wide_window.example[0].shape)\r\n",
    "try:\r\n",
    "    print(\"Output shape:\", multi_step_dense(wide_window.example[0]).shape)\r\n",
    "except Exception as e:\r\n",
    "    print(f\"\\n{type(e).__name__}:{e}\")\r\n"
   ],
   "outputs": [],
   "metadata": {}
  },
  {
   "cell_type": "code",
   "execution_count": null,
   "source": [
    "conv_model = tf.keras.Sequential(\r\n",
    "    [\r\n",
    "        tf.keras.layers.Conv1D(\r\n",
    "            filters=32, kernel_size=(CONV_WIDTH,), activation=\"relu\"\r\n",
    "        ),\r\n",
    "        tf.keras.layers.Dense(units=32, activation=\"relu\"),\r\n",
    "        tf.keras.layers.Dense(units=1),\r\n",
    "    ]\r\n",
    ")\r\n"
   ],
   "outputs": [],
   "metadata": {}
  },
  {
   "cell_type": "code",
   "execution_count": null,
   "source": [
    "print(\"Conv model on `conv_window`\")\r\n",
    "print('Input shape:', conv_window.example[0].shape)\r\n",
    "print('Output shape:', conv_model(conv_window.example[0]).shape)\r\n",
    "conv_window"
   ],
   "outputs": [],
   "metadata": {}
  },
  {
   "cell_type": "code",
   "execution_count": null,
   "source": [
    "history = compile_and_fit(conv_model, conv_window)\r\n",
    "\r\n",
    "IPython.display.clear_output()\r\n",
    "val_performance['Conv'] = conv_model.evaluate(conv_window.val)\r\n",
    "performance['Conv'] = conv_model.evaluate(conv_window.test, verbose=0)"
   ],
   "outputs": [],
   "metadata": {}
  },
  {
   "cell_type": "code",
   "execution_count": null,
   "source": [
    "conv_window.plot(conv_model)"
   ],
   "outputs": [],
   "metadata": {}
  },
  {
   "cell_type": "code",
   "execution_count": null,
   "source": [
    "history = compile_and_fit(conv_model, conv_window)\r\n",
    "\r\n",
    "IPython.display.clear_output()\r\n",
    "val_performance['Conv'] = conv_model.evaluate(conv_window.val)\r\n",
    "performance['Conv'] = conv_model.evaluate(conv_window.test, verbose=0)"
   ],
   "outputs": [],
   "metadata": {}
  },
  {
   "cell_type": "code",
   "execution_count": null,
   "source": [
    "print(\"Wide window\")\r\n",
    "print('Input shape:', wide_window.example[0].shape)\r\n",
    "print('Labels shape:', wide_window.example[1].shape)\r\n",
    "print('Output shape:', conv_model(wide_window.example[0]).shape)"
   ],
   "outputs": [],
   "metadata": {}
  },
  {
   "cell_type": "code",
   "execution_count": null,
   "source": [
    "LABEL_WIDTH = 24\r\n",
    "INPUT_WIDTH = LABEL_WIDTH + (CONV_WIDTH - 1)\r\n",
    "wide_conv_window = WindowGenerator(\r\n",
    "    input_width=INPUT_WIDTH,\r\n",
    "    label_width=LABEL_WIDTH,\r\n",
    "    shift=1,\r\n",
    "    label_columns=[\"close\"],\r\n",
    ")\r\n",
    "\r\n",
    "wide_conv_window\r\n"
   ],
   "outputs": [],
   "metadata": {}
  },
  {
   "cell_type": "code",
   "execution_count": null,
   "source": [
    "print(\"Wide conv window\")\r\n",
    "print(\"Input shape:\", wide_conv_window.example[0].shape)\r\n",
    "print(\"Labels shape:\", wide_conv_window.example[1].shape)\r\n",
    "print(\"Output shape:\", conv_model(wide_conv_window.example[0]).shape)\r\n"
   ],
   "outputs": [],
   "metadata": {}
  },
  {
   "cell_type": "code",
   "execution_count": null,
   "source": [
    "wide_conv_window.plot(conv_model)"
   ],
   "outputs": [],
   "metadata": {}
  },
  {
   "cell_type": "code",
   "execution_count": null,
   "source": [
    "lstm_model = tf.keras.models.Sequential([\r\n",
    "    # Shape [batch, time, features] => [batch, time, lstm_units]\r\n",
    "    tf.keras.layers.LSTM(32, return_sequences=True),\r\n",
    "    # Shape => [batch, time, features]\r\n",
    "    tf.keras.layers.Dense(units=1)\r\n",
    "])"
   ],
   "outputs": [],
   "metadata": {}
  },
  {
   "cell_type": "code",
   "execution_count": null,
   "source": [
    "print('Input shape:', wide_window.example[0].shape)\r\n",
    "print('Output shape:', lstm_model(wide_window.example[0]).shape)"
   ],
   "outputs": [],
   "metadata": {}
  },
  {
   "cell_type": "code",
   "execution_count": null,
   "source": [
    "history = compile_and_fit(lstm_model, wide_window)\r\n",
    "\r\n",
    "IPython.display.clear_output()\r\n",
    "val_performance['LSTM'] = lstm_model.evaluate(wide_window.val)\r\n",
    "performance['LSTM'] = lstm_model.evaluate(wide_window.test, verbose=0)"
   ],
   "outputs": [],
   "metadata": {}
  },
  {
   "cell_type": "code",
   "execution_count": null,
   "source": [
    "wide_window.plot(lstm_model)"
   ],
   "outputs": [],
   "metadata": {}
  },
  {
   "cell_type": "code",
   "execution_count": null,
   "source": [
    "x = np.arange(len(performance))\r\n",
    "width = 0.3\r\n",
    "metric_name = 'mean_absolute_error'\r\n",
    "metric_index = lstm_model.metrics_names.index('mean_absolute_error')\r\n",
    "val_mae = [v[metric_index] for v in val_performance.values()]\r\n",
    "test_mae = [v[metric_index] for v in performance.values()]\r\n",
    "\r\n",
    "plt.ylabel('mean_absolute_error [T (degC), normalized]')\r\n",
    "plt.bar(x - 0.17, val_mae, width, label='Validation')\r\n",
    "plt.bar(x + 0.17, test_mae, width, label='Test')\r\n",
    "plt.xticks(ticks=x, labels=performance.keys(),\r\n",
    "           rotation=45)\r\n",
    "_ = plt.legend()"
   ],
   "outputs": [],
   "metadata": {}
  },
  {
   "cell_type": "code",
   "execution_count": null,
   "source": [
    "for name, value in performance.items():\r\n",
    "  print(f'{name:12s}: {value[1]:0.4f}')"
   ],
   "outputs": [],
   "metadata": {}
  },
  {
   "cell_type": "code",
   "execution_count": null,
   "source": [
    "single_step_window = WindowGenerator(\r\n",
    "    # `WindowGenerator` returns all features as labels if you \r\n",
    "    # don't set the `label_columns` argument.\r\n",
    "    input_width=1, label_width=1, shift=1)\r\n",
    "\r\n",
    "wide_window = WindowGenerator(\r\n",
    "    input_width=24, label_width=24, shift=1)\r\n",
    "\r\n",
    "for example_inputs, example_labels in wide_window.train.take(1):\r\n",
    "  print(f'Inputs shape (batch, time, features): {example_inputs.shape}')\r\n",
    "  print(f'Labels shape (batch, time, features): {example_labels.shape}')"
   ],
   "outputs": [],
   "metadata": {}
  },
  {
   "cell_type": "code",
   "execution_count": null,
   "source": [
    "baseline = Baseline()\r\n",
    "baseline.compile(loss=tf.losses.MeanSquaredError(),\r\n",
    "                 metrics=[tf.metrics.MeanAbsoluteError()])"
   ],
   "outputs": [],
   "metadata": {}
  },
  {
   "cell_type": "code",
   "execution_count": null,
   "source": [
    "dense = tf.keras.Sequential([\r\n",
    "    tf.keras.layers.Dense(units=64, activation='relu'),\r\n",
    "    tf.keras.layers.Dense(units=64, activation='relu'),\r\n",
    "    tf.keras.layers.Dense(units=num_features)\r\n",
    "])"
   ],
   "outputs": [],
   "metadata": {}
  },
  {
   "cell_type": "code",
   "execution_count": null,
   "source": [
    "history = compile_and_fit(dense, single_step_window)\r\n",
    "\r\n",
    "IPython.display.clear_output()\r\n",
    "val_performance['Dense'] = dense.evaluate(single_step_window.val)\r\n",
    "performance['Dense'] = dense.evaluate(single_step_window.test, verbose=0)"
   ],
   "outputs": [],
   "metadata": {}
  },
  {
   "cell_type": "code",
   "execution_count": null,
   "source": [
    "%%time\r\n",
    "wide_window = WindowGenerator(\r\n",
    "    input_width=24, label_width=24, shift=1)\r\n",
    "\r\n",
    "lstm_model = tf.keras.models.Sequential([\r\n",
    "    # Shape [batch, time, features] => [batch, time, lstm_units]\r\n",
    "    tf.keras.layers.LSTM(32, return_sequences=True),\r\n",
    "    # Shape => [batch, time, features]\r\n",
    "    tf.keras.layers.Dense(units=num_features)\r\n",
    "])\r\n",
    "\r\n",
    "history = compile_and_fit(lstm_model, wide_window)\r\n",
    "\r\n",
    "IPython.display.clear_output()\r\n",
    "val_performance['LSTM'] = lstm_model.evaluate( wide_window.val)\r\n",
    "performance['LSTM'] = lstm_model.evaluate( wide_window.test, verbose=0)\r\n",
    "\r\n",
    "print()"
   ],
   "outputs": [],
   "metadata": {}
  },
  {
   "cell_type": "code",
   "execution_count": null,
   "source": [
    "class ResidualWrapper(tf.keras.Model):\r\n",
    "  def __init__(self, model):\r\n",
    "    super().__init__()\r\n",
    "    self.model = model\r\n",
    "\r\n",
    "  def call(self, inputs, *args, **kwargs):\r\n",
    "    delta = self.model(inputs, *args, **kwargs)\r\n",
    "\r\n",
    "    # The prediction for each time step is the input\r\n",
    "    # from the previous time step plus the delta\r\n",
    "    # calculated by the model.\r\n",
    "    return inputs + delta"
   ],
   "outputs": [],
   "metadata": {}
  },
  {
   "cell_type": "code",
   "execution_count": null,
   "source": [
    "%%time\r\n",
    "residual_lstm = ResidualWrapper(\r\n",
    "    tf.keras.Sequential([\r\n",
    "    tf.keras.layers.LSTM(32, return_sequences=True),\r\n",
    "    tf.keras.layers.Dense(\r\n",
    "        num_features,\r\n",
    "        # The predicted deltas should start small.\r\n",
    "        # Therefore, initialize the output layer with zeros.\r\n",
    "        kernel_initializer=tf.initializers.zeros())\r\n",
    "]))\r\n",
    "\r\n",
    "history = compile_and_fit(residual_lstm, wide_window)\r\n",
    "\r\n",
    "IPython.display.clear_output()\r\n",
    "val_performance['Residual LSTM'] = residual_lstm.evaluate(wide_window.val)\r\n",
    "performance['Residual LSTM'] = residual_lstm.evaluate(wide_window.test, verbose=0)\r\n",
    "print()"
   ],
   "outputs": [],
   "metadata": {}
  },
  {
   "cell_type": "code",
   "execution_count": null,
   "source": [
    "x = np.arange(len(performance))\r\n",
    "width = 0.3\r\n",
    "\r\n",
    "metric_name = 'mean_absolute_error'\r\n",
    "metric_index = lstm_model.metrics_names.index('mean_absolute_error')\r\n",
    "val_mae = [v[metric_index] for v in val_performance.values()]\r\n",
    "test_mae = [v[metric_index] for v in performance.values()]\r\n",
    "\r\n",
    "plt.bar(x - 0.17, val_mae, width, label='Validation')\r\n",
    "plt.bar(x + 0.17, test_mae, width, label='Test')\r\n",
    "plt.xticks(ticks=x, labels=performance.keys(),\r\n",
    "           rotation=45)\r\n",
    "plt.ylabel('MAE (average over all outputs)')\r\n",
    "_ = plt.legend()"
   ],
   "outputs": [],
   "metadata": {}
  },
  {
   "cell_type": "code",
   "execution_count": null,
   "source": [
    "for name, value in performance.items():\r\n",
    "  print(f'{name:15s}: {value[1]:0.4f}')"
   ],
   "outputs": [],
   "metadata": {}
  },
  {
   "cell_type": "code",
   "execution_count": null,
   "source": [
    "OUT_STEPS = 24\r\n",
    "multi_window = WindowGenerator(input_width=24,\r\n",
    "                               label_width=OUT_STEPS,\r\n",
    "                               shift=OUT_STEPS)\r\n",
    "\r\n",
    "multi_window.plot()\r\n",
    "multi_window"
   ],
   "outputs": [],
   "metadata": {}
  },
  {
   "cell_type": "code",
   "execution_count": null,
   "source": [
    "class MultiStepLastBaseline(tf.keras.Model):\r\n",
    "  def call(self, inputs):\r\n",
    "    return tf.tile(inputs[:, -1:, :], [1, OUT_STEPS, 1])\r\n",
    "\r\n",
    "last_baseline = MultiStepLastBaseline()\r\n",
    "last_baseline.compile(loss=tf.losses.MeanSquaredError(),\r\n",
    "                      metrics=[tf.metrics.MeanAbsoluteError()])\r\n",
    "\r\n",
    "multi_val_performance = {}\r\n",
    "multi_performance = {}\r\n",
    "\r\n",
    "multi_val_performance['Last'] = last_baseline.evaluate(multi_window.val)\r\n",
    "multi_performance['Last'] = last_baseline.evaluate(multi_window.test, verbose=0)\r\n",
    "multi_window.plot(last_baseline)"
   ],
   "outputs": [],
   "metadata": {}
  },
  {
   "cell_type": "code",
   "execution_count": null,
   "source": [
    "class RepeatBaseline(tf.keras.Model):\r\n",
    "  def call(self, inputs):\r\n",
    "    return inputs\r\n",
    "\r\n",
    "repeat_baseline = RepeatBaseline()\r\n",
    "repeat_baseline.compile(loss=tf.losses.MeanSquaredError(),\r\n",
    "                        metrics=[tf.metrics.MeanAbsoluteError()])\r\n",
    "\r\n",
    "multi_val_performance['Repeat'] = repeat_baseline.evaluate(multi_window.val)\r\n",
    "multi_performance['Repeat'] = repeat_baseline.evaluate(multi_window.test, verbose=0)\r\n",
    "multi_window.plot(repeat_baseline)"
   ],
   "outputs": [],
   "metadata": {}
  },
  {
   "cell_type": "code",
   "execution_count": null,
   "source": [
    "multi_linear_model = tf.keras.Sequential([\r\n",
    "    # Take the last time-step.\r\n",
    "    # Shape [batch, time, features] => [batch, 1, features]\r\n",
    "    tf.keras.layers.Lambda(lambda x: x[:, -1:, :]),\r\n",
    "    # Shape => [batch, 1, out_steps*features]\r\n",
    "    tf.keras.layers.Dense(OUT_STEPS*num_features,\r\n",
    "                          kernel_initializer=tf.initializers.zeros()),\r\n",
    "    # Shape => [batch, out_steps, features]\r\n",
    "    tf.keras.layers.Reshape([OUT_STEPS, num_features])\r\n",
    "])\r\n",
    "\r\n",
    "history = compile_and_fit(multi_linear_model, multi_window)\r\n",
    "\r\n",
    "IPython.display.clear_output()\r\n",
    "multi_val_performance['Linear'] = multi_linear_model.evaluate(multi_window.val)\r\n",
    "multi_performance['Linear'] = multi_linear_model.evaluate(multi_window.test, verbose=0)\r\n",
    "multi_window.plot(multi_linear_model)"
   ],
   "outputs": [],
   "metadata": {}
  },
  {
   "cell_type": "code",
   "execution_count": null,
   "source": [
    "multi_dense_model = tf.keras.Sequential([\r\n",
    "    # Take the last time step.\r\n",
    "    # Shape [batch, time, features] => [batch, 1, features]\r\n",
    "    tf.keras.layers.Lambda(lambda x: x[:, -1:, :]),\r\n",
    "    # Shape => [batch, 1, dense_units]\r\n",
    "    tf.keras.layers.Dense(512, activation='relu'),\r\n",
    "    # Shape => [batch, out_steps*features]\r\n",
    "    tf.keras.layers.Dense(OUT_STEPS*num_features,\r\n",
    "                          kernel_initializer=tf.initializers.zeros()),\r\n",
    "    # Shape => [batch, out_steps, features]\r\n",
    "    tf.keras.layers.Reshape([OUT_STEPS, num_features])\r\n",
    "])\r\n",
    "\r\n",
    "history = compile_and_fit(multi_dense_model, multi_window)\r\n",
    "\r\n",
    "IPython.display.clear_output()\r\n",
    "multi_val_performance['Dense'] = multi_dense_model.evaluate(multi_window.val)\r\n",
    "multi_performance['Dense'] = multi_dense_model.evaluate(multi_window.test, verbose=0)\r\n",
    "multi_window.plot(multi_dense_model)CONV_WIDTH = 3\r\n",
    "multi_conv_model = tf.keras.Sequential([\r\n",
    "    # Shape [batch, time, features] => [batch, CONV_WIDTH, features]\r\n",
    "    tf.keras.layers.Lambda(lambda x: x[:, -CONV_WIDTH:, :]),\r\n",
    "    # Shape => [batch, 1, conv_units]\r\n",
    "    tf.keras.layers.Conv1D(256, activation='relu', kernel_size=(CONV_WIDTH)),\r\n",
    "    # Shape => [batch, 1,  out_steps*features]\r\n",
    "    tf.keras.layers.Dense(OUT_STEPS*num_features,\r\n",
    "                          kernel_initializer=tf.initializers.zeros()),\r\n",
    "    # Shape => [batch, out_steps, features]\r\n",
    "    tf.keras.layers.Reshape([OUT_STEPS, num_features])\r\n",
    "])\r\n",
    "\r\n",
    "history = compile_and_fit(multi_conv_model, multi_window)\r\n",
    "\r\n",
    "IPython.display.clear_output()\r\n",
    "\r\n",
    "multi_val_performance['Conv'] = multi_conv_model.evaluate(multi_window.val)\r\n",
    "multi_performance['Conv'] = multi_conv_model.evaluate(multi_window.test, verbose=0)\r\n",
    "multi_window.plot(multi_conv_model)"
   ],
   "outputs": [],
   "metadata": {}
  },
  {
   "cell_type": "code",
   "execution_count": null,
   "source": [
    "CONV_WIDTH = 3\r\n",
    "multi_conv_model = tf.keras.Sequential([\r\n",
    "    # Shape [batch, time, features] => [batch, CONV_WIDTH, features]\r\n",
    "    tf.keras.layers.Lambda(lambda x: x[:, -CONV_WIDTH:, :]),\r\n",
    "    # Shape => [batch, 1, conv_units]\r\n",
    "    tf.keras.layers.Conv1D(256, activation='relu', kernel_size=(CONV_WIDTH)),\r\n",
    "    # Shape => [batch, 1,  out_steps*features]\r\n",
    "    tf.keras.layers.Dense(OUT_STEPS*num_features,\r\n",
    "                          kernel_initializer=tf.initializers.zeros()),\r\n",
    "    # Shape => [batch, out_steps, features]\r\n",
    "    tf.keras.layers.Reshape([OUT_STEPS, num_features])\r\n",
    "])\r\n",
    "\r\n",
    "history = compile_and_fit(multi_conv_model, multi_window)\r\n",
    "\r\n",
    "IPython.display.clear_output()\r\n",
    "\r\n",
    "multi_val_performance['Conv'] = multi_conv_model.evaluate(multi_window.val)\r\n",
    "multi_performance['Conv'] = multi_conv_model.evaluate(multi_window.test, verbose=0)\r\n",
    "multi_window.plot(multi_conv_model)"
   ],
   "outputs": [],
   "metadata": {}
  },
  {
   "cell_type": "code",
   "execution_count": null,
   "source": [
    "multi_lstm_model = tf.keras.Sequential([\r\n",
    "    # Shape [batch, time, features] => [batch, lstm_units].\r\n",
    "    # Adding more `lstm_units` just overfits more quickly.\r\n",
    "    tf.keras.layers.LSTM(32, return_sequences=False),\r\n",
    "    # Shape => [batch, out_steps*features].\r\n",
    "    tf.keras.layers.Dense(OUT_STEPS*num_features,\r\n",
    "                          kernel_initializer=tf.initializers.zeros()),\r\n",
    "    # Shape => [batch, out_steps, features].\r\n",
    "    tf.keras.layers.Reshape([OUT_STEPS, num_features])\r\n",
    "])\r\n",
    "\r\n",
    "history = compile_and_fit(multi_lstm_model, multi_window)\r\n",
    "\r\n",
    "IPython.display.clear_output()\r\n",
    "\r\n",
    "multi_val_performance['LSTM'] = multi_lstm_model.evaluate(multi_window.val)\r\n",
    "multi_performance['LSTM'] = multi_lstm_model.evaluate(multi_window.test, verbose=0)\r\n",
    "multi_window.plot(multi_lstm_model)"
   ],
   "outputs": [],
   "metadata": {}
  },
  {
   "cell_type": "code",
   "execution_count": null,
   "source": [
    "class FeedBack(tf.keras.Model):\r\n",
    "  def __init__(self, units, out_steps):\r\n",
    "    super().__init__()\r\n",
    "    self.out_steps = out_steps\r\n",
    "    self.units = units\r\n",
    "    self.lstm_cell = tf.keras.layers.LSTMCell(units)\r\n",
    "    # Also wrap the LSTMCell in an RNN to simplify the `warmup` method.\r\n",
    "    self.lstm_rnn = tf.keras.layers.RNN(self.lstm_cell, return_state=True)\r\n",
    "    self.dense = tf.keras.layers.Dense(num_features)"
   ],
   "outputs": [],
   "metadata": {}
  },
  {
   "cell_type": "code",
   "execution_count": null,
   "source": [
    "feedback_model = FeedBack(units=32, out_steps=OUT_STEPS)"
   ],
   "outputs": [],
   "metadata": {}
  },
  {
   "cell_type": "code",
   "execution_count": null,
   "source": [
    "def warmup(self, inputs):\r\n",
    "  # inputs.shape => (batch, time, features)\r\n",
    "  # x.shape => (batch, lstm_units)\r\n",
    "  x, *state = self.lstm_rnn(inputs)\r\n",
    "\r\n",
    "  # predictions.shape => (batch, features)\r\n",
    "  prediction = self.dense(x)\r\n",
    "  return prediction, state\r\n",
    "\r\n",
    "FeedBack.warmup = warmup"
   ],
   "outputs": [],
   "metadata": {}
  },
  {
   "cell_type": "code",
   "execution_count": null,
   "source": [
    "prediction, state = feedback_model.warmup(multi_window.example[0])\r\n",
    "prediction.shape"
   ],
   "outputs": [],
   "metadata": {}
  },
  {
   "cell_type": "code",
   "execution_count": null,
   "source": [
    "def call(self, inputs, training=None):\r\n",
    "  # Use a TensorArray to capture dynamically unrolled outputs.\r\n",
    "  predictions = []\r\n",
    "  # Initialize the LSTM state.\r\n",
    "  prediction, state = self.warmup(inputs)\r\n",
    "\r\n",
    "  # Insert the first prediction.\r\n",
    "  predictions.append(prediction)\r\n",
    "\r\n",
    "  # Run the rest of the prediction steps.\r\n",
    "  for n in range(1, self.out_steps):\r\n",
    "    # Use the last prediction as input.\r\n",
    "    x = prediction\r\n",
    "    # Execute one lstm step.\r\n",
    "    x, state = self.lstm_cell(x, states=state,\r\n",
    "                              training=training)\r\n",
    "    # Convert the lstm output to a prediction.\r\n",
    "    prediction = self.dense(x)\r\n",
    "    # Add the prediction to the output.\r\n",
    "    predictions.append(prediction)\r\n",
    "\r\n",
    "  # predictions.shape => (time, batch, features)\r\n",
    "  predictions = tf.stack(predictions)\r\n",
    "  # predictions.shape => (batch, time, features)\r\n",
    "  predictions = tf.transpose(predictions, [1, 0, 2])\r\n",
    "  return predictions\r\n",
    "\r\n",
    "FeedBack.call = call"
   ],
   "outputs": [],
   "metadata": {}
  },
  {
   "cell_type": "code",
   "execution_count": null,
   "source": [
    "history = compile_and_fit(feedback_model, multi_window)\r\n",
    "\r\n",
    "IPython.display.clear_output()\r\n",
    "\r\n",
    "multi_val_performance['AR LSTM'] = feedback_model.evaluate(multi_window.val)\r\n",
    "multi_performance['AR LSTM'] = feedback_model.evaluate(multi_window.test, verbose=0)\r\n",
    "multi_window.plot(feedback_model)"
   ],
   "outputs": [],
   "metadata": {}
  },
  {
   "cell_type": "code",
   "execution_count": null,
   "source": [
    "x = np.arange(len(multi_performance))\r\n",
    "width = 0.3\r\n",
    "\r\n",
    "metric_name = 'mean_absolute_error'\r\n",
    "metric_index = lstm_model.metrics_names.index('mean_absolute_error')\r\n",
    "val_mae = [v[metric_index] for v in multi_val_performance.values()]\r\n",
    "test_mae = [v[metric_index] for v in multi_performance.values()]\r\n",
    "\r\n",
    "plt.bar(x - 0.17, val_mae, width, label='Validation')\r\n",
    "plt.bar(x + 0.17, test_mae, width, label='Test')\r\n",
    "plt.xticks(ticks=x, labels=multi_performance.keys(),\r\n",
    "           rotation=45)\r\n",
    "plt.ylabel(f'MAE (average over all times and outputs)')\r\n",
    "_ = plt.legend()"
   ],
   "outputs": [],
   "metadata": {}
  },
  {
   "cell_type": "code",
   "execution_count": null,
   "source": [
    "for name, value in multi_performance.items():\r\n",
    "    print(f\"{name:8s}: {value[1]:0.4f}\")\r\n"
   ],
   "outputs": [],
   "metadata": {}
  }
 ],
 "metadata": {
  "orig_nbformat": 4,
  "language_info": {
   "name": "python",
   "version": "3.7.0",
   "mimetype": "text/x-python",
   "codemirror_mode": {
    "name": "ipython",
    "version": 3
   },
   "pygments_lexer": "ipython3",
   "nbconvert_exporter": "python",
   "file_extension": ".py"
  },
  "kernelspec": {
   "name": "python3",
   "display_name": "Python 3.7.0 64-bit ('env': venv)"
  },
  "interpreter": {
   "hash": "5b28a564d154730cebcf0a77751c471b8962279a1a72eb3cf8cb939e9c4c97bb"
  }
 },
 "nbformat": 4,
 "nbformat_minor": 2
}