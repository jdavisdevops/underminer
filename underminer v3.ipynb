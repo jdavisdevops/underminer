{
 "cells": [
  {
   "cell_type": "code",
<<<<<<< HEAD
   "execution_count": 5,
=======
   "execution_count": 1,
>>>>>>> befecd7 (new commit)
   "source": [
    "import pandas as pd\r\n",
    "from datetime import datetime, timedelta\r\n",
    "import pandas as pd\r\n",
    "import numpy as np\r\n",
    "import tensorflow as tf\r\n",
    "import matplotlib.pyplot as plt\r\n",
    "import cbpro\r\n",
    "\r\n",
    "public_client = cbpro.PublicClient()\r\n"
   ],
   "outputs": [],
   "metadata": {}
  },
  {
   "cell_type": "code",
<<<<<<< HEAD
   "execution_count": 6,
   "source": [
    "class MinerMeta(type):\r\n",
    "    def compile_historic(self):\r\n",
=======
   "execution_count": 5,
   "source": [
    "class MinerMeta(type):\r\n",
    "    def compile_historic(self, timestamp=False):\r\n",
>>>>>>> befecd7 (new commit)
    "        start_date = datetime(2020, 1, 1)\r\n",
    "        end_date = datetime.today()\r\n",
    "        delta = timedelta(hours=300)\r\n",
    "        df = pd.DataFrame()\r\n",
    "\r\n",
    "        while start_date <= end_date:\r\n",
    "            historic = public_client.get_product_historic_rates(\r\n",
    "                f\"{self.coin}-USD\",\r\n",
    "                granularity=3600,\r\n",
    "                start=start_date,\r\n",
    "                end=start_date + delta,\r\n",
    "            )\r\n",
    "            start_date += delta\r\n",
    "            df = df.append(historic, ignore_index=True)\r\n",
    "        df.columns = [\"time\", \"low\", \"high\", \"open\", \"close\", \"volume\"]\r\n",
    "        date_time = pd.to_datetime(df[\"time\"], unit=\"s\")\r\n",
    "\r\n",
    "        timestamp_s = date_time.map(pd.Timestamp.timestamp)\r\n",
    "        day = 24 * 60 * 60\r\n",
    "        year = (365.2425) * day\r\n",
    "        df[\"Day sin\"] = np.sin(timestamp_s * (2 * np.pi / day))\r\n",
    "        df[\"Day cos\"] = np.cos(timestamp_s * (2 * np.pi / day))\r\n",
    "        df[\"Year sin\"] = np.sin(timestamp_s * (2 * np.pi / year))\r\n",
    "        df[\"Year cos\"] = np.cos(timestamp_s * (2 * np.pi / year))\r\n",
    "        df.reset_index(drop=True, inplace=True)\r\n",
<<<<<<< HEAD
=======
    "\r\n",
    "        if timestamp is True:\r\n",
    "            pass\r\n",
    "        else:\r\n",
    "            df[\"time\"] = pd.to_datetime(df[\"time\"], unit=\"s\")\r\n",
>>>>>>> befecd7 (new commit)
    "        # df[\"time\"] = pd.to_datetime(df[\"time\"], unit=\"s\")\r\n",
    "        # df[\"time\"] = date_time.map(pd.Timestamp.timestamp)\r\n",
    "\r\n",
    "        # data = np.array(df, dtype=np.float32)\r\n",
    "        # ds = tf.keras.preprocessing.timeseries_dataset_from_array(\r\n",
    "        #     data=df,\r\n",
    "        #     targets=\"close\",\r\n",
    "        #     sequence_length=10,\r\n",
    "        #     sequence_stride=1,\r\n",
    "        #     shuffle=False,\r\n",
    "        #     batch_size=64,\r\n",
    "        # )\r\n",
    "\r\n",
    "        return df\r\n",
    "\r\n",
    "    def plot_cols(self, cols=None):\r\n",
    "        df = self.compile_historic()\r\n",
    "        if cols == None:\r\n",
    "            plot_features = df[list(df.columns)]\r\n",
    "        else:\r\n",
    "            plot_features = df[cols]\r\n",
    "        plot_features.index = df[\"time\"]\r\n",
    "        return plot_features.plot(subplots=True)\r\n",
    "\r\n",
    "    def do_fft(self):\r\n",
    "        df = self.compile_historic()\r\n",
    "        today = datetime.today()\r\n",
<<<<<<< HEAD
    "        \r\n",
    "        og = df[\"open\"]\r\n",
    "        fft = tf.signal.rfft(df[\"open\"])\r\n",
    "        close_fft = tf.signal.rfft(df[\"close\"])\r\n",
    "        f_per_dataset = np.arange(0, len(fft))\r\n",
    "\r\n",
    "        n_samples_h = 1\r\n",
    "        hours_per_year = 24*365.2524\r\n",
    "        years_per_dataset = n_samples_h/(hours_per_year)\r\n",
    "\r\n",
    "        f_per_year = f_per_dataset/years_per_dataset\r\n",
    "        plt.step(f_per_year, np.abs(fft))\r\n",
    "        plt.xscale('log')\r\n",
    "        # plt.ylim(1000, 50000)\r\n",
    "        # plt.xlim([0.1, max(plt.xlim())])\r\n",
    "        plt.xticks([1, 365.2524], labels=['1/Year', '1/day'])\r\n",
    "        plt.xlabel('Frequency (log scale)')\r\n",
    "\r\n",
    "        return plt.show()\r\n",
    "\r\n",
    "\r\n",
=======
    "\r\n",
    "        fft = tf.signal.rfft(df[\"close\"])\r\n",
    "        f_per_dataset = np.arange(0, len(fft))\r\n",
    "\r\n",
    "        n_samples_h = len(df[\"close\"])\r\n",
    "        hours_per_year = 24 * 365.2524\r\n",
    "        years_per_dataset = n_samples_h / (hours_per_year)\r\n",
    "\r\n",
    "        f_per_year = f_per_dataset / years_per_dataset\r\n",
    "        plt.step(f_per_year, np.abs(fft))\r\n",
    "        plt.xscale(\"log\")\r\n",
    "        plt.ylim(0, 400000)\r\n",
    "        plt.xlim([0.1, max(plt.xlim())])\r\n",
    "        plt.xticks([1, 365.2524], labels=[\"1/Year\", \"1/day\"])\r\n",
    "        _ = plt.xlabel(\"Frequency (log scale)\")\r\n",
    "\r\n",
    "        return plt.show()\r\n",
    "\r\n",
>>>>>>> befecd7 (new commit)
    "    # def make_dataset(data):\r\n",
    "    #     data = np.array(data, dtype=np.float32)\r\n",
    "    #     ds = tf.keras.preprocessing.timeseries_dataset_from_array(\r\n",
    "    #         data=data,\r\n",
    "    #         targets=\"close\",\r\n",
    "    #         sequence_length=10,\r\n",
    "    #         sequence_stride=1,\r\n",
    "    #         shuffle=False,\r\n",
    "    #         batch_size=64,\r\n",
    "    #     )\r\n",
    "\r\n",
    "    #     return ds\r\n",
    "\r\n",
    "    def __call__(self, *args, **kwargs):\r\n",
    "\r\n",
    "        cls = type.__call__(self, *args)\r\n",
    "\r\n",
    "        setattr(cls, \"compile_historic\", self.compile_historic)\r\n",
    "        setattr(cls, \"plot_cols\", self.plot_cols)\r\n",
    "        setattr(cls, \"do_fft\", self.do_fft)\r\n",
    "        # setattr(cls, \"make_dataset\", self.compile_historic)\r\n",
    "\r\n",
    "        # for key, value in historic.items():\r\n",
    "        #     setattr(cls, \"hist_\" + key, value)\r\n",
    "        # for key, value in ticker.items():\r\n",
    "        #     setattr(cls, \"tick_\" + key, value)\r\n",
    "\r\n",
    "        return cls\r\n",
    "\r\n",
    "\r\n",
    "class eth(metaclass=MinerMeta):\r\n",
    "    coin = \"eth\"\r\n",
    "\r\n",
    "\r\n",
    "class btc(metaclass=MinerMeta):\r\n",
<<<<<<< HEAD
    "    coin = \"btc\"\r\n"
=======
    "    coin = \"btc\"\r\n",
    "\r\n",
    "\r\n",
    "class FeedBack(tf.keras.Model):\r\n",
    "    def __init__(self, units, out_steps):\r\n",
    "        super().__init__()\r\n",
    "        self.out_steps = out_steps\r\n",
    "        self.units = units\r\n",
    "        self.lstm_cell = tf.keras.layers.LSTMCell(units)\r\n",
    "        # Also wrap the LSTMCell in an RNN to simplify the `warmup` method.\r\n",
    "        self.lstm_rnn = tf.keras.layers.RNN(self.lstm_cell, return_state=True)\r\n",
    "        self.dense = tf.keras.layers\r\n",
    "\r\n",
    "    def warmup(self, inputs):\r\n",
    "        # inputs.shape => (batch, time, features)\r\n",
    "        # x.shape => (batch, lstm_units)\r\n",
    "        x, *state = self.lstm_rnn(inputs)\r\n",
    "\r\n",
    "        # predictions.shape => (batch, features)\r\n",
    "        prediction = self.dense(x)\r\n",
    "        return prediction, state\r\n",
    "\r\n",
    "    def call(self, inputs, training=None):\r\n",
    "        # Use a TensorArray to capture dynamically unrolled outputs.\r\n",
    "        predictions = []\r\n",
    "        # Initialize the LSTM state.\r\n",
    "        prediction, state = self.warmup(inputs)\r\n",
    "\r\n",
    "        # Insert the first prediction.\r\n",
    "        predictions.append(prediction)\r\n",
    "\r\n",
    "        # Run the rest of the prediction steps.\r\n",
    "        for n in range(1, self.out_steps):\r\n",
    "            # Use the last prediction as input.\r\n",
    "            x = prediction\r\n",
    "            # Execute one lstm step.\r\n",
    "            x, state = self.lstm_cell(x, states=state, training=training)\r\n",
    "            # Convert the lstm output to a prediction.\r\n",
    "            prediction = self.dense(x)\r\n",
    "            # Add the prediction to the output.\r\n",
    "            predictions.append(prediction)\r\n",
    "\r\n",
    "        # predictions.shape => (time, batch, features)\r\n",
    "        predictions = tf.stack(predictions)\r\n",
    "        # predictions.shape => (batch, time, features)\r\n",
    "        predictions = tf.transpose(predictions, [1, 0, 2])\r\n",
    "        return predictions\r\n"
>>>>>>> befecd7 (new commit)
   ],
   "outputs": [],
   "metadata": {}
  },
  {
   "cell_type": "code",
<<<<<<< HEAD
   "execution_count": 7,
   "source": [
    "eth = eth()\r\n",
    "\r\n",
    "eth.do_fft()\r\n",
    "eth.plot_cols()"
=======
   "execution_count": 6,
   "source": [
    "df = eth.compile_historic()\r\n",
    "eth.do_fft()\r\n"
>>>>>>> befecd7 (new commit)
   ],
   "outputs": [
    {
     "output_type": "display_data",
     "data": {
<<<<<<< HEAD
      "image/png": "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",
=======
      "image/png": "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",
>>>>>>> befecd7 (new commit)
      "text/plain": [
       "<Figure size 432x288 with 1 Axes>"
      ]
     },
     "metadata": {
      "needs_background": "light"
     }
<<<<<<< HEAD
    },
    {
     "output_type": "execute_result",
     "data": {
      "text/plain": [
       "array([<AxesSubplot:xlabel='time'>, <AxesSubplot:xlabel='time'>,\n",
       "       <AxesSubplot:xlabel='time'>, <AxesSubplot:xlabel='time'>,\n",
       "       <AxesSubplot:xlabel='time'>, <AxesSubplot:xlabel='time'>,\n",
       "       <AxesSubplot:xlabel='time'>, <AxesSubplot:xlabel='time'>,\n",
       "       <AxesSubplot:xlabel='time'>, <AxesSubplot:xlabel='time'>],\n",
       "      dtype=object)"
      ]
     },
     "metadata": {},
     "execution_count": 7
    },
    {
     "output_type": "display_data",
     "data": {
      "image/png": "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",
      "text/plain": [
       "<Figure size 432x288 with 10 Axes>"
      ]
     },
     "metadata": {
      "needs_background": "light"
     }
=======
>>>>>>> befecd7 (new commit)
    }
   ],
   "metadata": {}
  },
  {
   "cell_type": "code",
   "execution_count": null,
   "source": [
<<<<<<< HEAD
    "class FeedBack(tf.keras.Model):\r\n",
    "  def __init__(self, units, out_steps):\r\n",
    "    super().__init__()\r\n",
    "    self.out_steps = out_steps\r\n",
    "    self.units = units\r\n",
    "    self.lstm_cell = tf.keras.layers.LSTMCell(units)\r\n",
    "    # Also wrap the LSTMCell in an RNN to simplify the `warmup` method.\r\n",
    "    self.lstm_rnn = tf.keras.layers.RNN(self.lstm_cell, return_state=True)\r\n",
    "    self.dense = tf.keras.layers\r\n",
    "    \r\n",
    "  def warmup(self, inputs):\r\n",
    "    # inputs.shape => (batch, time, features)\r\n",
    "    # x.shape => (batch, lstm_units)\r\n",
    "    x, *state = self.lstm_rnn(inputs)\r\n",
    "\r\n",
    "    # predictions.shape => (batch, features)\r\n",
    "    prediction = self.dense(x)\r\n",
    "    return prediction, state\r\n",
    "\r\n",
    "  def call(self, inputs, training=None):\r\n",
    "    # Use a TensorArray to capture dynamically unrolled outputs.\r\n",
    "    predictions = []\r\n",
    "    # Initialize the LSTM state.\r\n",
    "    prediction, state = self.warmup(inputs)\r\n",
    "\r\n",
    "    # Insert the first prediction.\r\n",
    "    predictions.append(prediction)\r\n",
    "\r\n",
    "    # Run the rest of the prediction steps.\r\n",
    "    for n in range(1, self.out_steps):\r\n",
    "      # Use the last prediction as input.\r\n",
    "      x = prediction\r\n",
    "      # Execute one lstm step.\r\n",
    "      x, state = self.lstm_cell(x, states=state,\r\n",
    "                                training=training)\r\n",
    "      # Convert the lstm output to a prediction.\r\n",
    "      prediction = self.dense(x)\r\n",
    "      # Add the prediction to the output.\r\n",
    "      predictions.append(prediction)\r\n",
    "\r\n",
    "    # predictions.shape => (time, batch, features)\r\n",
    "    predictions = tf.stack(predictions)\r\n",
    "    # predictions.shape => (batch, time, features)\r\n",
    "    predictions = tf.transpose(predictions, [1, 0, 2])\r\n",
    "    return predictions"
   ],
   "outputs": [],
   "metadata": {}
  },
  {
   "cell_type": "code",
   "execution_count": null,
   "source": [
    "FeedBack.call = call\r\n",
    "FeedBack.warmup = warmup\r\n",
    "\r\n",
    "prediction, state = feedback_model.warmup(multi_window.example[0])\r\n",
    "prediction.shape"
=======
    "class WindowGenerator:\r\n",
    "    def __init__(\r\n",
    "        self,\r\n",
    "        input_width,\r\n",
    "        label_width,\r\n",
    "        shift,\r\n",
    "        train_df=train_df,\r\n",
    "        val_df=val_df,\r\n",
    "        test_df=test_df,\r\n",
    "        label_columns=None,\r\n",
    "    ):\r\n",
    "        # Store the raw data.\r\n",
    "        self.train_df = train_df\r\n",
    "        self.val_df = val_df\r\n",
    "        self.test_df = test_df\r\n",
    "\r\n",
    "        # Work out the label column indices.\r\n",
    "        self.label_columns = label_columns\r\n",
    "        if label_columns is not None:\r\n",
    "            self.label_columns_indices = {\r\n",
    "                name: i for i, name in enumerate(label_columns)\r\n",
    "            }\r\n",
    "        self.column_indices = {name: i for i, name in enumerate(train_df.columns)}\r\n",
    "\r\n",
    "        # Work out the window parameters.\r\n",
    "        self.input_width = input_width\r\n",
    "        self.label_width = label_width\r\n",
    "        self.shift = shift\r\n",
    "\r\n",
    "        self.total_window_size = input_width + shift\r\n",
    "\r\n",
    "        self.input_slice = slice(0, input_width)\r\n",
    "        self.input_indices = np.arange(self.total_window_size)[self.input_slice]\r\n",
    "\r\n",
    "        self.label_start = self.total_window_size - self.label_width\r\n",
    "        self.labels_slice = slice(self.label_start, None)\r\n",
    "        self.label_indices = np.arange(self.total_window_size)[self.labels_slice]\r\n",
    "\r\n",
    "    def __repr__(self):\r\n",
    "        return \"\\n\".join(\r\n",
    "            [\r\n",
    "                f\"Total window size: {self.total_window_size}\",\r\n",
    "                f\"Input indices: {self.input_indices}\",\r\n",
    "                f\"Label indices: {self.label_indices}\",\r\n",
    "                f\"Label column name(s): {self.label_columns}\",\r\n",
    "            ]\r\n",
    "        )\r\n"
>>>>>>> befecd7 (new commit)
   ],
   "outputs": [],
   "metadata": {}
  }
 ],
 "metadata": {
  "orig_nbformat": 4,
  "language_info": {
   "name": "python",
   "version": "3.8.2",
   "mimetype": "text/x-python",
   "codemirror_mode": {
    "name": "ipython",
    "version": 3
   },
   "pygments_lexer": "ipython3",
   "nbconvert_exporter": "python",
   "file_extension": ".py"
  },
  "kernelspec": {
   "name": "python3",
   "display_name": "Python 3.8.2 64-bit ('env': venv)"
  },
  "interpreter": {
   "hash": "c0fa6df1989e8b1e61ca2e5a40b3f545d2b5d745ee2f55fdad9789d7961ddbf6"
  }
 },
 "nbformat": 4,
 "nbformat_minor": 2
}