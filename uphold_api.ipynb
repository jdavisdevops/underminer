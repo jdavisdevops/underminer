{
 "cells": [
  {
   "cell_type": "code",
   "execution_count": 59,
   "metadata": {},
   "outputs": [
    {
     "name": "stdout",
     "output_type": "stream",
     "text": [
      "{\"address\":{\"city\":\"place\",\"line1\":\"123456\",\"line2\":\"\",\"zipCode\":\"91103\"},\"birthdate\":\"1995-04-02\",\"country\":\"US\",\"email\":\"jadavisdata@gmail.com\",\"firstName\":\"Joseph\",\"fullName\":\"Joseph Davis\",\"id\":\"7dd2134c-0c27-41a4-82e6-3eff983e337c\",\"identityCountry\":null,\"lastName\":\"Davis\",\"name\":\"Joseph Davis\",\"settings\":{\"currency\":\"USD\",\"hasMarketingConsent\":true,\"intl\":{\"dateTimeFormat\":{\"locale\":\"en-US\"},\"language\":{\"locale\":\"en-US\"},\"numberFormat\":{\"locale\":\"en-US\"}},\"notifications\":[{\"type\":\"email\",\"topic\":\"marketing\",\"enabled\":true},{\"type\":\"push\",\"topic\":\"marketing\",\"enabled\":false},{\"type\":\"email\",\"topic\":\"security\",\"enabled\":true},{\"type\":\"push\",\"topic\":\"security\",\"enabled\":false},{\"type\":\"email\",\"topic\":\"transactions-and-balances\",\"enabled\":true},{\"type\":\"push\",\"topic\":\"transactions-and-balances\",\"enabled\":false},{\"type\":\"email\",\"topic\":\"price-alerts\",\"enabled\":false},{\"type\":\"push\",\"topic\":\"price-alerts\",\"enabled\":false}],\"otp\":{\"email\":{\"update\":{\"enabled\":true}},\"login\":{\"enabled\":true},\"transactions\":{\"transfer\":{\"enabled\":false},\"send\":{\"enabled\":true},\"withdraw\":{\"crypto\":{\"enabled\":true}}}},\"hasNewsSubscription\":true},\"memberAt\":null,\"state\":\"US-CA\",\"status\":\"restricted\",\"type\":\"individual\",\"username\":null,\"verifications\":{\"authentication-method\":{\"status\":\"required\"},\"identity\":{\"status\":\"required\",\"reason\":\"soft-screening\",\"providers\":[\"veriff\"]},\"termsEquities\":{\"status\":\"required\"},\"termsFpsSepaDeposits\":{\"status\":\"required\"}},\"balances\":{\"available\":\"0.00\",\"currencies\":{},\"pending\":\"0.00\",\"total\":\"0.00\"},\"currencies\":[\"AAVE\",\"ADA\",\"AED\",\"ARS\",\"ATOM\",\"AUD\",\"AXS\",\"BAL\",\"BAT\",\"BCH\",\"BRL\",\"BTC\",\"BTC0\",\"BTG\",\"CAD\",\"CHF\",\"CNY\",\"COMP\",\"CRV\",\"CZK\",\"DAI\",\"DASH\",\"DGB\",\"DKK\",\"DOGE\",\"DOT\",\"ENJ\",\"EOS\",\"ETH\",\"EUR\",\"FIL\",\"FLOW\",\"GBP\",\"GRT\",\"HBAR\",\"HKD\",\"HNT\",\"HRK\",\"HUF\",\"ILS\",\"INR\",\"JPY\",\"KES\",\"LINK\",\"LTC\",\"MATIC\",\"MKR\",\"MXN\",\"NANO\",\"NOK\",\"NZD\",\"OMG\",\"OXT\",\"PHP\",\"PLN\",\"REN\",\"RON\",\"SAND\",\"SEK\",\"SGD\",\"SNX\",\"SOL\",\"SRM\",\"SUSHI\",\"THETA\",\"TUSD\",\"UMA\",\"UNI\",\"UPBTC\",\"UPCO2\",\"UPEUR\",\"UPUSD\",\"UPXAU\",\"USD\",\"USDC\",\"USDT\",\"VCO\",\"VET\",\"WBTC\",\"XAG\",\"XAU\",\"XCH\",\"XLM\",\"XPD\",\"XPT\",\"XRP\",\"XTZ\",\"ZIL\",\"ZRX\"],\"phones\":[{\"e164Masked\":\"+XXXXXXXXX42\",\"id\":\"e182db68-ca85-4bb8-b8bf-0e7164c1449b\",\"internationalMasked\":\"+X XXX-XXX-XX42\",\"nationalMasked\":\"(XXX) XXX-XX42\",\"primary\":true,\"verified\":true}]}\n"
     ]
    }
   ],
   "source": [
    "import requests\n",
    "\n",
    "pat = \"65c0aa487ddc1e1b83241e6608c7316906f8a35d\"\n",
    "\n",
    "url = r\"https://api-sandbox.uphold.com/v0/me\"\n",
    "\n",
    "headers = {\n",
    "    \"User-Agent\": None,\n",
    "    \"Accept-Encoding\": None,\n",
    "    \"Connection\": None,\n",
    "    \"Content-Type\": \"application/json\",\n",
    "    \"Authorization\": f\"Bearer {pat}\",\n",
    "}\n",
    "\n",
    "r = requests.get(url, headers=headers)\n",
    "\n",
    "app_auth_url = r'https://sandbox.uphold.com/authorize'\n",
    "\n",
    "auth = reque\n"
   ]
  },
  {
   "cell_type": "code",
   "execution_count": 98,
   "metadata": {},
   "outputs": [
    {
     "data": {
      "text/plain": [
       "[{'CreatedByApplicationId': None,\n",
       "  'address': {'wire': 'UH3E8963FB'},\n",
       "  'available': '0.00',\n",
       "  'balance': '0.00',\n",
       "  'currency': 'BTC',\n",
       "  'id': '065d57fa-ec7f-4037-b94e-2d9a8a4f11c7',\n",
       "  'label': 'BTC account',\n",
       "  'lastTransactionAt': None,\n",
       "  'settings': {'position': 1, 'protected': False, 'starred': True},\n",
       "  'normalized': [{'available': '0.00', 'balance': '0.00', 'currency': 'USD'}],\n",
       "  'wire': [{'accountName': 'Uphold Europe Limited',\n",
       "    'address': {'line1': 'Tartu mnt 2', 'line2': '10145 Tallinn, Estonia'},\n",
       "    'bic': 'LHVBEE22',\n",
       "    'currency': 'EUR',\n",
       "    'iban': 'EE76 7700 7710 0159 0178',\n",
       "    'name': 'AS LHV Pank'},\n",
       "   {'accountName': 'Uphold Europe Limited',\n",
       "    'accountNumber': '00000083',\n",
       "    'address': {'line1': '1 Angel Court', 'line2': 'London, EC2R 7HJ'},\n",
       "    'bic': 'LHVBEE22',\n",
       "    'currency': 'GBP',\n",
       "    'iban': 'EE76 7700 7710 0159 0178',\n",
       "    'name': 'AS LHV PANK UK BRANCH',\n",
       "    'sortCode': '040300'},\n",
       "   {'accountName': 'Uphold HQ, Inc.',\n",
       "    'accountNumber': '299007316',\n",
       "    'address': {'line1': '99 Park Avenue, Floor 4',\n",
       "     'line2': 'New York, NY 10016'},\n",
       "    'bic': 'MCBEUS33',\n",
       "    'currency': 'USD',\n",
       "    'name': 'Metropolitan Commercial Bank',\n",
       "    'routingNumber': '026013356'}]}]"
      ]
     },
     "execution_count": 98,
     "metadata": {},
     "output_type": "execute_result"
    }
   ],
   "source": [
    "card_url = r\"https://api-sandbox.uphold.com/v0/me/cards\"\n",
    "payload = {\"q\": \"currency:BTC\"}\n",
    "cards = requests.get(card_url, headers=headers, params=payload)\n",
    "\n",
    "cards.json()\n"
   ]
  },
  {
   "cell_type": "code",
   "execution_count": 99,
   "metadata": {},
   "outputs": [
    {
     "data": {
      "text/plain": [
       "'https://api-sandbox.uphold.com/v0/me/cards?q=currency%3ABTC'"
      ]
     },
     "execution_count": 99,
     "metadata": {},
     "output_type": "execute_result"
    }
   ],
   "source": [
    "cards.url"
   ]
  },
  {
   "cell_type": "code",
   "execution_count": null,
   "metadata": {},
   "outputs": [],
   "source": []
  }
 ],
 "metadata": {
  "interpreter": {
   "hash": "c0fa6df1989e8b1e61ca2e5a40b3f545d2b5d745ee2f55fdad9789d7961ddbf6"
  },
  "kernelspec": {
   "display_name": "Python 3.8.2 64-bit ('env': venv)",
   "language": "python",
   "name": "python3"
  },
  "language_info": {
   "codemirror_mode": {
    "name": "ipython",
    "version": 3
   },
   "file_extension": ".py",
   "mimetype": "text/x-python",
   "name": "python",
   "nbconvert_exporter": "python",
   "pygments_lexer": "ipython3",
   "version": "3.8.2"
  },
  "orig_nbformat": 4
 },
 "nbformat": 4,
 "nbformat_minor": 2
}
