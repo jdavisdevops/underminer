{
 "cells": [
  {
   "cell_type": "code",
   "execution_count": null,
   "metadata": {},
   "outputs": [],
   "source": [
    "import requests\n",
    "\n",
    "\n",
    "class Uphold(object):\n",
    "    def __init__(self, sandbox=False):\n",
    "        if sandbox:\n",
    "            self.host = \"api-sandbox.uphold.com\"\n",
    "        else:\n",
    "            self.host = \"api.uphold.com\"\n",
    "        self.in_sandbox = sandbox\n",
    "        self.debug = False\n",
    "        self.version = 0\n",
    "        self.session = requests.Session()\n",
    "        self.pat = None\n",
    "        self.otp = None\n",
    "        self.headers = {\"User-Agent\": None, \"Accept-Encoding\": None, \"Connection\": None}\n",
    "        if self.pat is not None:\n",
    "            self.headers[\"Authorization\"] = self.pat\n",
    "\n",
    "    def _debug(self, s):\n",
    "        if self.debug:\n",
    "            print(s)\n",
    "\n",
    "    def otp_code(self, code):\n",
    "        self.otp = code\n",
    "\n",
    "    def auth_basic(self, username, password):\n",
    "        self.username = username\n",
    "        self.password = password\n",
    "        self.pat = None\n",
    "\n",
    "    def auth_pat(self, pat):\n",
    "        self.username = None\n",
    "        self.password = None\n",
    "        self.pat = pat\n",
    "\n",
    "    def create_pat(self, desc):\n",
    "        params = {\"description\": desc}\n",
    "        self.headers[\"Content-Type\"] = \"application/json\"\n",
    "        data = self._post(\"/me/tokens\", params)\n",
    "\n",
    "    def get_pats(self):\n",
    "        self.headers[\"Content-Type\"] = \"application/json\"\n",
    "        data = self._get(\"/me/tokens\")\n",
    "        return data\n",
    "\n",
    "    def get_me(self):\n",
    "        return self._get(\"/me\")\n"
   ]
  }
 ],
 "metadata": {
  "language_info": {
   "name": "python"
  },
  "orig_nbformat": 4
 },
 "nbformat": 4,
 "nbformat_minor": 2
}
